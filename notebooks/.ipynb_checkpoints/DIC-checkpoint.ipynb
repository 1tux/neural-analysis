{
 "cells": [
  {
   "cell_type": "raw",
   "metadata": {},
   "source": [
    "R code\n",
    "\n",
    "y <- rpois(100, 10)\n",
    "\n",
    "postDraws <- rgamma(1000, 0.01 + sum(y), 0.01 + length(y))\n",
    "\n",
    "thetaBayes <- mean(postDraws)\n",
    "\n",
    "logLikelihood <- function(theta) sum(dpois(y, theta, log=T))\n",
    "\n",
    "pDIC <- 2*(logLikelihood(thetaBayes) - mean(sapply(postDraws, logLikelihood) ))\n",
    "dic <- -2*logLikelihood(thetaBayes) + 2*pDIC\n",
    "print(dic)"
   ]
  },
  {
   "cell_type": "code",
   "execution_count": 230,
   "metadata": {},
   "outputs": [
    {
     "name": "stdout",
     "output_type": "stream",
     "text": [
      "505.6069771218151\n"
     ]
    }
   ],
   "source": [
    "import numpy as np\n",
    "from scipy.stats import poisson\n",
    "\n",
    "y = np.random.poisson(10, 100)\n",
    "postdraws = np.random.gamma(0.01 + sum(y), 1/ (0.01 + len(y)), size=1000)\n",
    "thetaBayes = np.mean(postdraws)\n",
    "\n",
    "logLikelihood = lambda theta: np.sum(poisson.logpmf(y, theta))\n",
    "pDIC = 2*logLikelihood(thetaBayes) - 2*np.mean(list(map(logLikelihood, postdraws)))\n",
    "dic = -2*logLikelihood(thetaBayes) + 2*pDIC\n",
    "print(dic)"
   ]
  }
 ],
 "metadata": {
  "kernelspec": {
   "display_name": "Python 3",
   "language": "python",
   "name": "python3"
  },
  "language_info": {
   "codemirror_mode": {
    "name": "ipython",
    "version": 3
   },
   "file_extension": ".py",
   "mimetype": "text/x-python",
   "name": "python",
   "nbconvert_exporter": "python",
   "pygments_lexer": "ipython3",
   "version": "3.6.6"
  }
 },
 "nbformat": 4,
 "nbformat_minor": 4
}
