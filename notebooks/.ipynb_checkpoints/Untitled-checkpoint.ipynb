{
 "cells": [
  {
   "cell_type": "code",
   "execution_count": 1,
   "id": "f6065a38-60c7-4a45-9804-6e43d861e240",
   "metadata": {},
   "outputs": [],
   "source": [
    "import sys\n",
    "sys.path.append(\"..\")"
   ]
  },
  {
   "cell_type": "code",
   "execution_count": 6,
   "id": "a4972416-984b-4f59-8626-1b049caba57f",
   "metadata": {},
   "outputs": [],
   "source": [
    "# load model from cache\n",
    "# sample\n",
    "import shelve\n",
    "from conf import Conf\n",
    "from main import get_key_per_model\n",
    "import main\n",
    "import models\n",
    "import data_manager\n",
    "\n",
    "main.nid = 72\n",
    "data = data_manager.Loader5()(main.nid)\n",
    "dataprop = data_manager.DataProp1(data)\n",
    "\n",
    "m = models.AlloModel(n_bats=5, max_iter=25, fit_intercept=False)\n",
    "d = shelve.open(\"..\\\\\" + Conf().CACHE_FOLDER + \"models\")\n",
    "k = get_key_per_model(m, 0)\n",
    "m = d[k]"
   ]
  },
  {
   "cell_type": "code",
   "execution_count": 9,
   "id": "3df16c14-494d-4494-bcb7-bfd06c12f548",
   "metadata": {},
   "outputs": [
    {
     "data": {
      "text/plain": [
       "PoissonGAM(callbacks=[Deviance(), Diffs()], fit_intercept=False, \n",
       "   max_iter=25, \n",
       "   terms=s(0) + te(1, 2) + te(3, 4) + te(5, 6) + te(7, 8) + te(9, 10),\n",
       "   tol=0.0001, verbose=False)"
      ]
     },
     "execution_count": 9,
     "metadata": {},
     "output_type": "execute_result"
    }
   ],
   "source": [
    "m.gam_model.sample("
   ]
  }
 ],
 "metadata": {
  "kernelspec": {
   "display_name": "Python 3 (ipykernel)",
   "language": "python",
   "name": "python3"
  },
  "language_info": {
   "codemirror_mode": {
    "name": "ipython",
    "version": 3
   },
   "file_extension": ".py",
   "mimetype": "text/x-python",
   "name": "python",
   "nbconvert_exporter": "python",
   "pygments_lexer": "ipython3",
   "version": "3.10.1"
  }
 },
 "nbformat": 4,
 "nbformat_minor": 5
}
