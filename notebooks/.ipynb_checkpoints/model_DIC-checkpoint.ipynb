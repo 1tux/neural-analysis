{
 "cells": [
  {
   "cell_type": "code",
   "execution_count": 4,
   "id": "f6065a38-60c7-4a45-9804-6e43d861e240",
   "metadata": {},
   "outputs": [],
   "source": [
    "import sys\n",
    "sys.path.append(\"..\")\n",
    "import os\n",
    "os.chdir(\"..\")"
   ]
  },
  {
   "cell_type": "code",
   "execution_count": 14,
   "id": "d545bbd8-98fa-4239-81a6-2b59ba71f64a",
   "metadata": {},
   "outputs": [],
   "source": [
    "os.chdir('git/neural-analysis')"
   ]
  },
  {
   "cell_type": "code",
   "execution_count": 7,
   "id": "a4972416-984b-4f59-8626-1b049caba57f",
   "metadata": {},
   "outputs": [],
   "source": [
    "# load model from cache\n",
    "# sample\n",
    "import shelve\n",
    "from conf import Conf\n",
    "import main\n",
    "import models\n",
    "import data_manager\n",
    "import features_lib\n",
    "\n",
    "main.nid = 72\n",
    "data = data_manager.Loader5()(main.nid)\n",
    "dataprop = data_manager.DataProp1(data)\n",
    "\n",
    "m = models.AlloModel(n_bats=5, max_iter=25, fit_intercept=False)\n",
    "d = shelve.open(Conf().CACHE_FOLDER + \"models\")\n",
    "k = models.ModelledNeuron(m, main.nid, shuffle_index=0)\n",
    "m = d[k.get_key()].model"
   ]
  },
  {
   "cell_type": "code",
   "execution_count": 48,
   "id": "3df16c14-494d-4494-bcb7-bfd06c12f548",
   "metadata": {},
   "outputs": [],
   "source": [
    "covariate_list = set(m.build_covariates_list()) & set(dataprop.data.columns)\n",
    "X = dataprop.data[covariate_list]\n",
    "y = dataprop.data[features_lib.get_label_name()]\n",
    "samples = m.gam_model.sample(X, y, quantity='coef', n_bootstraps=1, n_draws=1000)"
   ]
  },
  {
   "cell_type": "code",
   "execution_count": 54,
   "id": "25428745-863c-43f0-be09-5d74bfbe6751",
   "metadata": {},
   "outputs": [
    {
     "name": "stdout",
     "output_type": "stream",
     "text": [
      "-91625.01889627487\n",
      "1.30251145362854\n",
      "-108701.25542037014\n",
      "1.3174755573272705\n",
      "206937.87316468483\n"
     ]
    }
   ],
   "source": [
    "import numpy as np\n",
    "from copy import deepcopy\n",
    "import time\n",
    "\n",
    "m2 = deepcopy(m)\n",
    "mean_sample = np.mean(samples, axis=0)\n",
    "\n",
    "def get_loglikelihood_per_sample(sample):\n",
    "    m2.gam_model.coef_ = sample\n",
    "    ll = m2.gam_model.loglikelihood(X, y)\n",
    "    return ll\n",
    "\n",
    "t = time.time()\n",
    "print(get_loglikelihood_per_sample(samples[0]))\n",
    "t2 = time.time()\n",
    "print(t2 - t)\n",
    "print(get_loglikelihood_per_sample(samples[1]))\n",
    "t3 = time.time()\n",
    "print(t3 - t2)\n",
    "\n",
    "pDIC = 2*get_loglikelihood_per_sample(mean_sample) - 2*np.mean(list(map(get_loglikelihood_per_sample, samples)))\n",
    "dic = -2*get_loglikelihood_per_sample(mean_sample) + 2*pDIC\n",
    "print(dic)"
   ]
  },
  {
   "cell_type": "code",
   "execution_count": 133,
   "id": "9c9165e4-a9ae-499a-8d56-41d89282a5fe",
   "metadata": {
    "tags": []
   },
   "outputs": [],
   "source": [
    "import numpy as np\n",
    "from copy import deepcopy\n",
    "import time\n",
    "\n",
    "m_ego = models.EgoModel(n_bats=5, max_iter=25, fit_intercept=True)\n",
    "m_ego.neuron_id = main.nid\n",
    "\n",
    "cache = {}\n",
    "from scipy.stats import poisson\n",
    "def get_loglikelihood_per_sample(m, sample):\n",
    "    if tuple(sample) not in cache:\n",
    "        global X, y\n",
    "        m2 = deepcopy(m)\n",
    "        m2.gam_model.coef_ = sample\n",
    "        y_pred = m2.gam_model.predict(X)\n",
    "        ll = poisson.logpmf(y, y_pred).sum()\n",
    "        ll_ = poisson.logpmf(y, y_pred)#.sum()\n",
    "        cache[tuple(sample)] = m2.gam_model.loglikelihood(X, y)\n",
    "        print(\"my ll test:\", ll, cache[tuple(sample)])\n",
    "        print(y_pred)\n",
    "        print(y)\n",
    "        print(ll_)\n",
    "    # print(cache[tuple(sample)])\n",
    "    return cache[tuple(sample)]\n",
    "\n",
    "def calc_dic(m, nid):\n",
    "    global samples\n",
    "    \n",
    "    k = models.ModelledNeuron(m, nid, shuffle_index=0)\n",
    "    d = shelve.open(Conf().CACHE_FOLDER + \"models\")\n",
    "\n",
    "    m = d[k.get_key()].model\n",
    "    print(\"Original Model LL:\", get_loglikelihood_per_sample(m, m.gam_model.coef_))\n",
    "    covariate_list = set(m.build_covariates_list()) & set(dataprop.data.columns)\n",
    "    X = dataprop.data[covariate_list]\n",
    "    y = dataprop.data[features_lib.get_label_name()]\n",
    "    samples = m.gam_model.sample(X, y, quantity='coef', n_bootstraps=1, n_draws=5)\n",
    "\n",
    "    m2 = deepcopy(m)\n",
    "    mean_sample = np.mean(samples, axis=0)\n",
    "    print(\"mean sample ll:\", get_loglikelihood_per_sample(m2, mean_sample))\n",
    "    print(\"original model ll:\",  m.gam_model.loglikelihood(X, y))\n",
    "    mean_ll = get_loglikelihood_per_sample(m2, mean_sample)\n",
    "    distribution_ll = list(map(lambda x: get_loglikelihood_per_sample(m2, x), samples))\n",
    "    pDIC_ego = 2 * mean_ll - 2 * np.mean(distribution_ll) # effective number of params\n",
    "    dic_ego = -2*mean_ll + 2 * pDIC_ego\n",
    "    print(\"ll of best model:\", np.max(list(map(lambda x: get_loglikelihood_per_sample(m ,x), samples))))\n",
    "    best_model_coeff = samples[np.argmax(list(map(lambda x: get_loglikelihood_per_sample(m ,x), samples)))]\n",
    "    best_model = deepcopy(m)\n",
    "    best_model.gam_model.coef_ = best_model_coeff\n",
    "    best_model.y_pred = best_model.gam_model.predict(X)\n",
    "    # k.model.y_pred = k.model.gam_model.predict(X)\n",
    "    from main import calc_maps_and_plot_models\n",
    "    import rate_maps\n",
    "    # data = data_manager.Loader6()(m_ego.neuron_id)\n",
    "    # dataprop = data_manager.DataProp1(data)\n",
    "    data_maps = rate_maps.build_maps(dataprop)\n",
    "    import matplotlib.pyplot as plt\n",
    "    # plt.figure(figsize=(12, 8), dpi=80)\n",
    "    plt.rcParams[\"figure.figsize\"] = (20, 16)\n",
    "    \n",
    "    calc_maps_and_plot_models(dataprop, data_maps, [models.ModelledNeuron(m, k.neuron_id, k.shuffle_index),\\\n",
    "                                                    models.ModelledNeuron(best_model, k.neuron_id, k.shuffle_index)])\n",
    "    \n",
    "    print(pDIC_ego, dic_ego)\n",
    "    return dic_ego\n",
    "\n"
   ]
  },
  {
   "cell_type": "code",
   "execution_count": 134,
   "id": "3bc0c99c-9a6f-49cd-9620-8ace3bb03966",
   "metadata": {},
   "outputs": [
    {
     "name": "stdout",
     "output_type": "stream",
     "text": [
      "1002 14 d191220 ego_cell2.csv\n",
      "<class 'models.AlloModel'>\n",
      "my ll test: -69175466.16841611 -69175466.16841611\n",
      "[-3.56956025e-15 -1.78988530e-16 -1.50427728e-16 ... -1.18065321e-22\n",
      " -8.39529742e-23 -8.47338991e-23]\n",
      "Original Model LL: -69175466.16841611\n",
      "my ll test: -198023359060.70706 -198023359060.70706\n",
      "[-3.67369367e-16 -1.58625140e-17 -1.32596478e-17 ... -7.66512697e-24\n",
      " -5.33479388e-24 -5.38769166e-24]\n",
      "mean sample ll: -198023359060.70706\n",
      "original model ll: -69175466.16841611\n",
      "my ll test: -118901713.02048011 -118901713.02048011\n",
      "[-1.24437087e-15 -5.77772380e-17 -4.51772247e-17 ... -2.62487108e-22\n",
      " -1.86161379e-22 -1.87263215e-22]\n",
      "my ll test: -129621968.18557072 -129621968.18557072\n",
      "[-2.41472910e-16 -3.29675395e-17 -3.15121745e-17 ... -5.39552920e-17\n",
      " -4.26705070e-17 -4.30826587e-17]\n",
      "my ll test: -1088012354605790.5 -1088012354605790.5\n",
      "[-6.80739547e-16 -2.18779427e-17 -1.66659061e-17 ... -2.83727207e-24\n",
      " -1.91931852e-24 -1.93529959e-24]\n",
      "my ll test: -1.26087441258548e+16 -1.26087441258548e+16\n",
      "[-2.98589805e-16 -9.33409747e-18 -8.05806847e-18 ... -1.08269600e-27\n",
      " -7.16162479e-28 -7.25290746e-28]\n"
     ]
    },
    {
     "ename": "KeyboardInterrupt",
     "evalue": "",
     "output_type": "error",
     "traceback": [
      "\u001b[1;31m---------------------------------------------------------------------------\u001b[0m",
      "\u001b[1;31mKeyboardInterrupt\u001b[0m                         Traceback (most recent call last)",
      "\u001b[1;32mC:\\Users\\ITAYY~1.WIS\\AppData\\Local\\Temp/ipykernel_17020/589419103.py\u001b[0m in \u001b[0;36m<module>\u001b[1;34m\u001b[0m\n\u001b[0;32m     17\u001b[0m     \u001b[0my\u001b[0m \u001b[1;33m=\u001b[0m \u001b[0mdataprop\u001b[0m\u001b[1;33m.\u001b[0m\u001b[0mdata\u001b[0m\u001b[1;33m[\u001b[0m\u001b[0mfeatures_lib\u001b[0m\u001b[1;33m.\u001b[0m\u001b[0mget_label_name\u001b[0m\u001b[1;33m(\u001b[0m\u001b[1;33m)\u001b[0m\u001b[1;33m]\u001b[0m\u001b[1;33m\u001b[0m\u001b[1;33m\u001b[0m\u001b[0m\n\u001b[0;32m     18\u001b[0m \u001b[1;33m\u001b[0m\u001b[0m\n\u001b[1;32m---> 19\u001b[1;33m     \u001b[0mdic_allo\u001b[0m \u001b[1;33m=\u001b[0m \u001b[0mcalc_dic\u001b[0m\u001b[1;33m(\u001b[0m\u001b[0mm\u001b[0m\u001b[1;33m,\u001b[0m \u001b[0mnid\u001b[0m\u001b[1;33m)\u001b[0m\u001b[1;33m\u001b[0m\u001b[1;33m\u001b[0m\u001b[0m\n\u001b[0m",
      "\u001b[1;32mC:\\Users\\ITAYY~1.WIS\\AppData\\Local\\Temp/ipykernel_17020/1321567225.py\u001b[0m in \u001b[0;36mcalc_dic\u001b[1;34m(m, nid)\u001b[0m\n\u001b[0;32m     40\u001b[0m     \u001b[0mprint\u001b[0m\u001b[1;33m(\u001b[0m\u001b[1;34m\"original model ll:\"\u001b[0m\u001b[1;33m,\u001b[0m  \u001b[0mm\u001b[0m\u001b[1;33m.\u001b[0m\u001b[0mgam_model\u001b[0m\u001b[1;33m.\u001b[0m\u001b[0mloglikelihood\u001b[0m\u001b[1;33m(\u001b[0m\u001b[0mX\u001b[0m\u001b[1;33m,\u001b[0m \u001b[0my\u001b[0m\u001b[1;33m)\u001b[0m\u001b[1;33m)\u001b[0m\u001b[1;33m\u001b[0m\u001b[1;33m\u001b[0m\u001b[0m\n\u001b[0;32m     41\u001b[0m     \u001b[0mmean_ll\u001b[0m \u001b[1;33m=\u001b[0m \u001b[0mget_loglikelihood_per_sample\u001b[0m\u001b[1;33m(\u001b[0m\u001b[0mm2\u001b[0m\u001b[1;33m,\u001b[0m \u001b[0mmean_sample\u001b[0m\u001b[1;33m)\u001b[0m\u001b[1;33m\u001b[0m\u001b[1;33m\u001b[0m\u001b[0m\n\u001b[1;32m---> 42\u001b[1;33m     \u001b[0mdistribution_ll\u001b[0m \u001b[1;33m=\u001b[0m \u001b[0mlist\u001b[0m\u001b[1;33m(\u001b[0m\u001b[0mmap\u001b[0m\u001b[1;33m(\u001b[0m\u001b[1;32mlambda\u001b[0m \u001b[0mx\u001b[0m\u001b[1;33m:\u001b[0m \u001b[0mget_loglikelihood_per_sample\u001b[0m\u001b[1;33m(\u001b[0m\u001b[0mm2\u001b[0m\u001b[1;33m,\u001b[0m \u001b[0mx\u001b[0m\u001b[1;33m)\u001b[0m\u001b[1;33m,\u001b[0m \u001b[0msamples\u001b[0m\u001b[1;33m)\u001b[0m\u001b[1;33m)\u001b[0m\u001b[1;33m\u001b[0m\u001b[1;33m\u001b[0m\u001b[0m\n\u001b[0m\u001b[0;32m     43\u001b[0m     \u001b[0mpDIC_ego\u001b[0m \u001b[1;33m=\u001b[0m \u001b[1;36m2\u001b[0m \u001b[1;33m*\u001b[0m \u001b[0mmean_ll\u001b[0m \u001b[1;33m-\u001b[0m \u001b[1;36m2\u001b[0m \u001b[1;33m*\u001b[0m \u001b[0mnp\u001b[0m\u001b[1;33m.\u001b[0m\u001b[0mmean\u001b[0m\u001b[1;33m(\u001b[0m\u001b[0mdistribution_ll\u001b[0m\u001b[1;33m)\u001b[0m \u001b[1;31m# effective number of params\u001b[0m\u001b[1;33m\u001b[0m\u001b[1;33m\u001b[0m\u001b[0m\n\u001b[0;32m     44\u001b[0m     \u001b[0mdic_ego\u001b[0m \u001b[1;33m=\u001b[0m \u001b[1;33m-\u001b[0m\u001b[1;36m2\u001b[0m\u001b[1;33m*\u001b[0m\u001b[0mmean_ll\u001b[0m \u001b[1;33m+\u001b[0m \u001b[1;36m2\u001b[0m \u001b[1;33m*\u001b[0m \u001b[0mpDIC_ego\u001b[0m\u001b[1;33m\u001b[0m\u001b[1;33m\u001b[0m\u001b[0m\n",
      "\u001b[1;32mC:\\Users\\ITAYY~1.WIS\\AppData\\Local\\Temp/ipykernel_17020/1321567225.py\u001b[0m in \u001b[0;36m<lambda>\u001b[1;34m(x)\u001b[0m\n\u001b[0;32m     40\u001b[0m     \u001b[0mprint\u001b[0m\u001b[1;33m(\u001b[0m\u001b[1;34m\"original model ll:\"\u001b[0m\u001b[1;33m,\u001b[0m  \u001b[0mm\u001b[0m\u001b[1;33m.\u001b[0m\u001b[0mgam_model\u001b[0m\u001b[1;33m.\u001b[0m\u001b[0mloglikelihood\u001b[0m\u001b[1;33m(\u001b[0m\u001b[0mX\u001b[0m\u001b[1;33m,\u001b[0m \u001b[0my\u001b[0m\u001b[1;33m)\u001b[0m\u001b[1;33m)\u001b[0m\u001b[1;33m\u001b[0m\u001b[1;33m\u001b[0m\u001b[0m\n\u001b[0;32m     41\u001b[0m     \u001b[0mmean_ll\u001b[0m \u001b[1;33m=\u001b[0m \u001b[0mget_loglikelihood_per_sample\u001b[0m\u001b[1;33m(\u001b[0m\u001b[0mm2\u001b[0m\u001b[1;33m,\u001b[0m \u001b[0mmean_sample\u001b[0m\u001b[1;33m)\u001b[0m\u001b[1;33m\u001b[0m\u001b[1;33m\u001b[0m\u001b[0m\n\u001b[1;32m---> 42\u001b[1;33m     \u001b[0mdistribution_ll\u001b[0m \u001b[1;33m=\u001b[0m \u001b[0mlist\u001b[0m\u001b[1;33m(\u001b[0m\u001b[0mmap\u001b[0m\u001b[1;33m(\u001b[0m\u001b[1;32mlambda\u001b[0m \u001b[0mx\u001b[0m\u001b[1;33m:\u001b[0m \u001b[0mget_loglikelihood_per_sample\u001b[0m\u001b[1;33m(\u001b[0m\u001b[0mm2\u001b[0m\u001b[1;33m,\u001b[0m \u001b[0mx\u001b[0m\u001b[1;33m)\u001b[0m\u001b[1;33m,\u001b[0m \u001b[0msamples\u001b[0m\u001b[1;33m)\u001b[0m\u001b[1;33m)\u001b[0m\u001b[1;33m\u001b[0m\u001b[1;33m\u001b[0m\u001b[0m\n\u001b[0m\u001b[0;32m     43\u001b[0m     \u001b[0mpDIC_ego\u001b[0m \u001b[1;33m=\u001b[0m \u001b[1;36m2\u001b[0m \u001b[1;33m*\u001b[0m \u001b[0mmean_ll\u001b[0m \u001b[1;33m-\u001b[0m \u001b[1;36m2\u001b[0m \u001b[1;33m*\u001b[0m \u001b[0mnp\u001b[0m\u001b[1;33m.\u001b[0m\u001b[0mmean\u001b[0m\u001b[1;33m(\u001b[0m\u001b[0mdistribution_ll\u001b[0m\u001b[1;33m)\u001b[0m \u001b[1;31m# effective number of params\u001b[0m\u001b[1;33m\u001b[0m\u001b[1;33m\u001b[0m\u001b[0m\n\u001b[0;32m     44\u001b[0m     \u001b[0mdic_ego\u001b[0m \u001b[1;33m=\u001b[0m \u001b[1;33m-\u001b[0m\u001b[1;36m2\u001b[0m\u001b[1;33m*\u001b[0m\u001b[0mmean_ll\u001b[0m \u001b[1;33m+\u001b[0m \u001b[1;36m2\u001b[0m \u001b[1;33m*\u001b[0m \u001b[0mpDIC_ego\u001b[0m\u001b[1;33m\u001b[0m\u001b[1;33m\u001b[0m\u001b[0m\n",
      "\u001b[1;32mC:\\Users\\ITAYY~1.WIS\\AppData\\Local\\Temp/ipykernel_17020/1321567225.py\u001b[0m in \u001b[0;36mget_loglikelihood_per_sample\u001b[1;34m(m, sample)\u001b[0m\n\u001b[0;32m     16\u001b[0m         \u001b[0mll\u001b[0m \u001b[1;33m=\u001b[0m \u001b[0mpoisson\u001b[0m\u001b[1;33m.\u001b[0m\u001b[0mlogpmf\u001b[0m\u001b[1;33m(\u001b[0m\u001b[0my\u001b[0m\u001b[1;33m,\u001b[0m \u001b[0my_pred\u001b[0m\u001b[1;33m)\u001b[0m\u001b[1;33m.\u001b[0m\u001b[0msum\u001b[0m\u001b[1;33m(\u001b[0m\u001b[1;33m)\u001b[0m\u001b[1;33m\u001b[0m\u001b[1;33m\u001b[0m\u001b[0m\n\u001b[0;32m     17\u001b[0m         \u001b[0mll_\u001b[0m \u001b[1;33m=\u001b[0m \u001b[0mpoisson\u001b[0m\u001b[1;33m.\u001b[0m\u001b[0mlogpmf\u001b[0m\u001b[1;33m(\u001b[0m\u001b[0my\u001b[0m\u001b[1;33m,\u001b[0m \u001b[0my_pred\u001b[0m\u001b[1;33m)\u001b[0m\u001b[1;31m#.sum()\u001b[0m\u001b[1;33m\u001b[0m\u001b[1;33m\u001b[0m\u001b[0m\n\u001b[1;32m---> 18\u001b[1;33m         \u001b[0mcache\u001b[0m\u001b[1;33m[\u001b[0m\u001b[0mtuple\u001b[0m\u001b[1;33m(\u001b[0m\u001b[0msample\u001b[0m\u001b[1;33m)\u001b[0m\u001b[1;33m]\u001b[0m \u001b[1;33m=\u001b[0m \u001b[0mm2\u001b[0m\u001b[1;33m.\u001b[0m\u001b[0mgam_model\u001b[0m\u001b[1;33m.\u001b[0m\u001b[0mloglikelihood\u001b[0m\u001b[1;33m(\u001b[0m\u001b[0mX\u001b[0m\u001b[1;33m,\u001b[0m \u001b[0my\u001b[0m\u001b[1;33m)\u001b[0m\u001b[1;33m\u001b[0m\u001b[1;33m\u001b[0m\u001b[0m\n\u001b[0m\u001b[0;32m     19\u001b[0m         \u001b[0mprint\u001b[0m\u001b[1;33m(\u001b[0m\u001b[1;34m\"my ll test:\"\u001b[0m\u001b[1;33m,\u001b[0m \u001b[0mll\u001b[0m\u001b[1;33m,\u001b[0m \u001b[0mcache\u001b[0m\u001b[1;33m[\u001b[0m\u001b[0mtuple\u001b[0m\u001b[1;33m(\u001b[0m\u001b[0msample\u001b[0m\u001b[1;33m)\u001b[0m\u001b[1;33m]\u001b[0m\u001b[1;33m)\u001b[0m\u001b[1;33m\u001b[0m\u001b[1;33m\u001b[0m\u001b[0m\n\u001b[0;32m     20\u001b[0m         \u001b[0mprint\u001b[0m\u001b[1;33m(\u001b[0m\u001b[0mll_\u001b[0m\u001b[1;33m)\u001b[0m\u001b[1;33m\u001b[0m\u001b[1;33m\u001b[0m\u001b[0m\n",
      "\u001b[1;32m~\\AppData\\Local\\Programs\\Python\\Python310\\lib\\site-packages\\pygam\\pygam.py\u001b[0m in \u001b[0;36mloglikelihood\u001b[1;34m(self, X, y, exposure, weights)\u001b[0m\n\u001b[0;32m   2589\u001b[0m         \"\"\"\n\u001b[0;32m   2590\u001b[0m         \u001b[0my\u001b[0m \u001b[1;33m=\u001b[0m \u001b[0mcheck_y\u001b[0m\u001b[1;33m(\u001b[0m\u001b[0my\u001b[0m\u001b[1;33m,\u001b[0m \u001b[0mself\u001b[0m\u001b[1;33m.\u001b[0m\u001b[0mlink\u001b[0m\u001b[1;33m,\u001b[0m \u001b[0mself\u001b[0m\u001b[1;33m.\u001b[0m\u001b[0mdistribution\u001b[0m\u001b[1;33m,\u001b[0m \u001b[0mverbose\u001b[0m\u001b[1;33m=\u001b[0m\u001b[0mself\u001b[0m\u001b[1;33m.\u001b[0m\u001b[0mverbose\u001b[0m\u001b[1;33m)\u001b[0m\u001b[1;33m\u001b[0m\u001b[1;33m\u001b[0m\u001b[0m\n\u001b[1;32m-> 2591\u001b[1;33m         \u001b[0mmu\u001b[0m \u001b[1;33m=\u001b[0m \u001b[0mself\u001b[0m\u001b[1;33m.\u001b[0m\u001b[0mpredict_mu\u001b[0m\u001b[1;33m(\u001b[0m\u001b[0mX\u001b[0m\u001b[1;33m)\u001b[0m\u001b[1;33m\u001b[0m\u001b[1;33m\u001b[0m\u001b[0m\n\u001b[0m\u001b[0;32m   2592\u001b[0m \u001b[1;33m\u001b[0m\u001b[0m\n\u001b[0;32m   2593\u001b[0m         \u001b[1;32mif\u001b[0m \u001b[0mweights\u001b[0m \u001b[1;32mis\u001b[0m \u001b[1;32mnot\u001b[0m \u001b[1;32mNone\u001b[0m\u001b[1;33m:\u001b[0m\u001b[1;33m\u001b[0m\u001b[1;33m\u001b[0m\u001b[0m\n",
      "\u001b[1;32m~\\AppData\\Local\\Programs\\Python\\Python310\\lib\\site-packages\\pygam\\pygam.py\u001b[0m in \u001b[0;36mpredict_mu\u001b[1;34m(self, X)\u001b[0m\n\u001b[0;32m    414\u001b[0m                     features=self.feature, verbose=self.verbose)\n\u001b[0;32m    415\u001b[0m \u001b[1;33m\u001b[0m\u001b[0m\n\u001b[1;32m--> 416\u001b[1;33m         \u001b[0mlp\u001b[0m \u001b[1;33m=\u001b[0m \u001b[0mself\u001b[0m\u001b[1;33m.\u001b[0m\u001b[0m_linear_predictor\u001b[0m\u001b[1;33m(\u001b[0m\u001b[0mX\u001b[0m\u001b[1;33m)\u001b[0m\u001b[1;33m\u001b[0m\u001b[1;33m\u001b[0m\u001b[0m\n\u001b[0m\u001b[0;32m    417\u001b[0m         \u001b[1;32mreturn\u001b[0m \u001b[0mself\u001b[0m\u001b[1;33m.\u001b[0m\u001b[0mlink\u001b[0m\u001b[1;33m.\u001b[0m\u001b[0mmu\u001b[0m\u001b[1;33m(\u001b[0m\u001b[0mlp\u001b[0m\u001b[1;33m,\u001b[0m \u001b[0mself\u001b[0m\u001b[1;33m.\u001b[0m\u001b[0mdistribution\u001b[0m\u001b[1;33m)\u001b[0m\u001b[1;33m\u001b[0m\u001b[1;33m\u001b[0m\u001b[0m\n\u001b[0;32m    418\u001b[0m \u001b[1;33m\u001b[0m\u001b[0m\n",
      "\u001b[1;32m~\\AppData\\Local\\Programs\\Python\\Python310\\lib\\site-packages\\pygam\\pygam.py\u001b[0m in \u001b[0;36m_linear_predictor\u001b[1;34m(self, X, modelmat, b, term)\u001b[0m\n\u001b[0;32m    388\u001b[0m         \"\"\"\n\u001b[0;32m    389\u001b[0m         \u001b[1;32mif\u001b[0m \u001b[0mmodelmat\u001b[0m \u001b[1;32mis\u001b[0m \u001b[1;32mNone\u001b[0m\u001b[1;33m:\u001b[0m\u001b[1;33m\u001b[0m\u001b[1;33m\u001b[0m\u001b[0m\n\u001b[1;32m--> 390\u001b[1;33m             \u001b[0mmodelmat\u001b[0m \u001b[1;33m=\u001b[0m \u001b[0mself\u001b[0m\u001b[1;33m.\u001b[0m\u001b[0m_modelmat\u001b[0m\u001b[1;33m(\u001b[0m\u001b[0mX\u001b[0m\u001b[1;33m,\u001b[0m \u001b[0mterm\u001b[0m\u001b[1;33m=\u001b[0m\u001b[0mterm\u001b[0m\u001b[1;33m)\u001b[0m\u001b[1;33m\u001b[0m\u001b[1;33m\u001b[0m\u001b[0m\n\u001b[0m\u001b[0;32m    391\u001b[0m         \u001b[1;32mif\u001b[0m \u001b[0mb\u001b[0m \u001b[1;32mis\u001b[0m \u001b[1;32mNone\u001b[0m\u001b[1;33m:\u001b[0m\u001b[1;33m\u001b[0m\u001b[1;33m\u001b[0m\u001b[0m\n\u001b[0;32m    392\u001b[0m             \u001b[0mb\u001b[0m \u001b[1;33m=\u001b[0m \u001b[0mself\u001b[0m\u001b[1;33m.\u001b[0m\u001b[0mcoef_\u001b[0m\u001b[1;33m[\u001b[0m\u001b[0mself\u001b[0m\u001b[1;33m.\u001b[0m\u001b[0mterms\u001b[0m\u001b[1;33m.\u001b[0m\u001b[0mget_coef_indices\u001b[0m\u001b[1;33m(\u001b[0m\u001b[0mterm\u001b[0m\u001b[1;33m)\u001b[0m\u001b[1;33m]\u001b[0m\u001b[1;33m\u001b[0m\u001b[1;33m\u001b[0m\u001b[0m\n",
      "\u001b[1;32m~\\AppData\\Local\\Programs\\Python\\Python310\\lib\\site-packages\\pygam\\pygam.py\u001b[0m in \u001b[0;36m_modelmat\u001b[1;34m(self, X, term)\u001b[0m\n\u001b[0;32m    457\u001b[0m                     features=self.feature, verbose=self.verbose)\n\u001b[0;32m    458\u001b[0m \u001b[1;33m\u001b[0m\u001b[0m\n\u001b[1;32m--> 459\u001b[1;33m         \u001b[1;32mreturn\u001b[0m \u001b[0mself\u001b[0m\u001b[1;33m.\u001b[0m\u001b[0mterms\u001b[0m\u001b[1;33m.\u001b[0m\u001b[0mbuild_columns\u001b[0m\u001b[1;33m(\u001b[0m\u001b[0mX\u001b[0m\u001b[1;33m,\u001b[0m \u001b[0mterm\u001b[0m\u001b[1;33m=\u001b[0m\u001b[0mterm\u001b[0m\u001b[1;33m)\u001b[0m\u001b[1;33m\u001b[0m\u001b[1;33m\u001b[0m\u001b[0m\n\u001b[0m\u001b[0;32m    460\u001b[0m \u001b[1;33m\u001b[0m\u001b[0m\n\u001b[0;32m    461\u001b[0m     \u001b[1;32mdef\u001b[0m \u001b[0m_cholesky\u001b[0m\u001b[1;33m(\u001b[0m\u001b[0mself\u001b[0m\u001b[1;33m,\u001b[0m \u001b[0mA\u001b[0m\u001b[1;33m,\u001b[0m \u001b[1;33m**\u001b[0m\u001b[0mkwargs\u001b[0m\u001b[1;33m)\u001b[0m\u001b[1;33m:\u001b[0m\u001b[1;33m\u001b[0m\u001b[1;33m\u001b[0m\u001b[0m\n",
      "\u001b[1;32m~\\AppData\\Local\\Programs\\Python\\Python310\\lib\\site-packages\\pygam\\terms.py\u001b[0m in \u001b[0;36mbuild_columns\u001b[1;34m(self, X, term, verbose)\u001b[0m\n\u001b[0;32m   1717\u001b[0m         \u001b[0mcolumns\u001b[0m \u001b[1;33m=\u001b[0m \u001b[1;33m[\u001b[0m\u001b[1;33m]\u001b[0m\u001b[1;33m\u001b[0m\u001b[1;33m\u001b[0m\u001b[0m\n\u001b[0;32m   1718\u001b[0m         \u001b[1;32mfor\u001b[0m \u001b[0mterm_id\u001b[0m \u001b[1;32min\u001b[0m \u001b[0mterm\u001b[0m\u001b[1;33m:\u001b[0m\u001b[1;33m\u001b[0m\u001b[1;33m\u001b[0m\u001b[0m\n\u001b[1;32m-> 1719\u001b[1;33m             \u001b[0mcolumns\u001b[0m\u001b[1;33m.\u001b[0m\u001b[0mappend\u001b[0m\u001b[1;33m(\u001b[0m\u001b[0mself\u001b[0m\u001b[1;33m.\u001b[0m\u001b[0m_terms\u001b[0m\u001b[1;33m[\u001b[0m\u001b[0mterm_id\u001b[0m\u001b[1;33m]\u001b[0m\u001b[1;33m.\u001b[0m\u001b[0mbuild_columns\u001b[0m\u001b[1;33m(\u001b[0m\u001b[0mX\u001b[0m\u001b[1;33m,\u001b[0m \u001b[0mverbose\u001b[0m\u001b[1;33m=\u001b[0m\u001b[0mverbose\u001b[0m\u001b[1;33m)\u001b[0m\u001b[1;33m)\u001b[0m\u001b[1;33m\u001b[0m\u001b[1;33m\u001b[0m\u001b[0m\n\u001b[0m\u001b[0;32m   1720\u001b[0m         \u001b[1;32mreturn\u001b[0m \u001b[0msp\u001b[0m\u001b[1;33m.\u001b[0m\u001b[0msparse\u001b[0m\u001b[1;33m.\u001b[0m\u001b[0mhstack\u001b[0m\u001b[1;33m(\u001b[0m\u001b[0mcolumns\u001b[0m\u001b[1;33m,\u001b[0m \u001b[0mformat\u001b[0m\u001b[1;33m=\u001b[0m\u001b[1;34m'csc'\u001b[0m\u001b[1;33m)\u001b[0m\u001b[1;33m\u001b[0m\u001b[1;33m\u001b[0m\u001b[0m\n\u001b[0;32m   1721\u001b[0m \u001b[1;33m\u001b[0m\u001b[0m\n",
      "\u001b[1;32m~\\AppData\\Local\\Programs\\Python\\Python310\\lib\\site-packages\\pygam\\terms.py\u001b[0m in \u001b[0;36mbuild_columns\u001b[1;34m(self, X, verbose)\u001b[0m\n\u001b[0;32m   1288\u001b[0m         \u001b[0mscipy\u001b[0m \u001b[0msparse\u001b[0m \u001b[0marray\u001b[0m \u001b[1;32mwith\u001b[0m \u001b[0mn\u001b[0m \u001b[0mrows\u001b[0m\u001b[1;33m\u001b[0m\u001b[1;33m\u001b[0m\u001b[0m\n\u001b[0;32m   1289\u001b[0m         \"\"\"\n\u001b[1;32m-> 1290\u001b[1;33m         \u001b[0msplines\u001b[0m \u001b[1;33m=\u001b[0m \u001b[0mself\u001b[0m\u001b[1;33m.\u001b[0m\u001b[0m_terms\u001b[0m\u001b[1;33m[\u001b[0m\u001b[1;36m0\u001b[0m\u001b[1;33m]\u001b[0m\u001b[1;33m.\u001b[0m\u001b[0mbuild_columns\u001b[0m\u001b[1;33m(\u001b[0m\u001b[0mX\u001b[0m\u001b[1;33m,\u001b[0m \u001b[0mverbose\u001b[0m\u001b[1;33m=\u001b[0m\u001b[0mverbose\u001b[0m\u001b[1;33m)\u001b[0m\u001b[1;33m\u001b[0m\u001b[1;33m\u001b[0m\u001b[0m\n\u001b[0m\u001b[0;32m   1291\u001b[0m         \u001b[1;32mfor\u001b[0m \u001b[0mterm\u001b[0m \u001b[1;32min\u001b[0m \u001b[0mself\u001b[0m\u001b[1;33m.\u001b[0m\u001b[0m_terms\u001b[0m\u001b[1;33m[\u001b[0m\u001b[1;36m1\u001b[0m\u001b[1;33m:\u001b[0m\u001b[1;33m]\u001b[0m\u001b[1;33m:\u001b[0m\u001b[1;33m\u001b[0m\u001b[1;33m\u001b[0m\u001b[0m\n\u001b[0;32m   1292\u001b[0m             \u001b[0mmarginal_splines\u001b[0m \u001b[1;33m=\u001b[0m \u001b[0mterm\u001b[0m\u001b[1;33m.\u001b[0m\u001b[0mbuild_columns\u001b[0m\u001b[1;33m(\u001b[0m\u001b[0mX\u001b[0m\u001b[1;33m,\u001b[0m \u001b[0mverbose\u001b[0m\u001b[1;33m=\u001b[0m\u001b[0mverbose\u001b[0m\u001b[1;33m)\u001b[0m\u001b[1;33m\u001b[0m\u001b[1;33m\u001b[0m\u001b[0m\n",
      "\u001b[1;32m~\\AppData\\Local\\Programs\\Python\\Python310\\lib\\site-packages\\pygam\\terms.py\u001b[0m in \u001b[0;36mbuild_columns\u001b[1;34m(self, X, verbose)\u001b[0m\n\u001b[0;32m    782\u001b[0m         \u001b[0mX\u001b[0m\u001b[1;33m[\u001b[0m\u001b[1;33m:\u001b[0m\u001b[1;33m,\u001b[0m \u001b[0mself\u001b[0m\u001b[1;33m.\u001b[0m\u001b[0mfeature\u001b[0m\u001b[1;33m]\u001b[0m\u001b[1;33m[\u001b[0m\u001b[1;33m:\u001b[0m\u001b[1;33m,\u001b[0m \u001b[0mnp\u001b[0m\u001b[1;33m.\u001b[0m\u001b[0mnewaxis\u001b[0m\u001b[1;33m]\u001b[0m\u001b[1;33m\u001b[0m\u001b[1;33m\u001b[0m\u001b[0m\n\u001b[0;32m    783\u001b[0m \u001b[1;33m\u001b[0m\u001b[0m\n\u001b[1;32m--> 784\u001b[1;33m         splines = b_spline_basis(X[:, self.feature],\n\u001b[0m\u001b[0;32m    785\u001b[0m                                  \u001b[0medge_knots\u001b[0m\u001b[1;33m=\u001b[0m\u001b[0mself\u001b[0m\u001b[1;33m.\u001b[0m\u001b[0medge_knots_\u001b[0m\u001b[1;33m,\u001b[0m\u001b[1;33m\u001b[0m\u001b[1;33m\u001b[0m\u001b[0m\n\u001b[0;32m    786\u001b[0m                                  \u001b[0mspline_order\u001b[0m\u001b[1;33m=\u001b[0m\u001b[0mself\u001b[0m\u001b[1;33m.\u001b[0m\u001b[0mspline_order\u001b[0m\u001b[1;33m,\u001b[0m\u001b[1;33m\u001b[0m\u001b[1;33m\u001b[0m\u001b[0m\n",
      "\u001b[1;32m~\\AppData\\Local\\Programs\\Python\\Python310\\lib\\site-packages\\pygam\\utils.py\u001b[0m in \u001b[0;36mb_spline_basis\u001b[1;34m(x, edge_knots, n_splines, spline_order, sparse, periodic, verbose)\u001b[0m\n\u001b[0;32m    669\u001b[0m         \u001b[1;31m# track previous bases and update\u001b[0m\u001b[1;33m\u001b[0m\u001b[1;33m\u001b[0m\u001b[0m\n\u001b[0;32m    670\u001b[0m         \u001b[0mprev_bases\u001b[0m \u001b[1;33m=\u001b[0m \u001b[0mbases\u001b[0m\u001b[1;33m[\u001b[0m\u001b[1;33m-\u001b[0m\u001b[1;36m2\u001b[0m\u001b[1;33m:\u001b[0m\u001b[1;33m]\u001b[0m\u001b[1;33m\u001b[0m\u001b[1;33m\u001b[0m\u001b[0m\n\u001b[1;32m--> 671\u001b[1;33m         \u001b[0mbases\u001b[0m \u001b[1;33m=\u001b[0m \u001b[0mleft\u001b[0m \u001b[1;33m+\u001b[0m \u001b[0mright\u001b[0m\u001b[1;33m\u001b[0m\u001b[1;33m\u001b[0m\u001b[0m\n\u001b[0m\u001b[0;32m    672\u001b[0m \u001b[1;33m\u001b[0m\u001b[0m\n\u001b[0;32m    673\u001b[0m     \u001b[1;32mif\u001b[0m \u001b[0mperiodic\u001b[0m \u001b[1;32mand\u001b[0m \u001b[0mspline_order\u001b[0m \u001b[1;33m>\u001b[0m \u001b[1;36m0\u001b[0m\u001b[1;33m:\u001b[0m\u001b[1;33m\u001b[0m\u001b[1;33m\u001b[0m\u001b[0m\n",
      "\u001b[1;31mKeyboardInterrupt\u001b[0m: "
     ]
    }
   ],
   "source": [
    "import models\n",
    "\n",
    "nid = 1002\n",
    "data = data_manager.Loader6()(nid)\n",
    "dataprop = data_manager.DataProp1(data)\n",
    "\n",
    "\n",
    "sub_models = [\n",
    "    models.AlloModel(n_bats=5, max_iter=25, fit_intercept=True),\n",
    "    models.EgoModel(n_bats=5, max_iter=25, fit_intercept=True)\n",
    "    ]\n",
    "\n",
    "for m in sub_models:\n",
    "    print(m.__class__)\n",
    "    covariate_list = set(m.build_covariates_list()) & set(dataprop.data.columns)\n",
    "    X = dataprop.data[covariate_list]\n",
    "    y = dataprop.data[features_lib.get_label_name()]\n",
    "\n",
    "    dic_allo = calc_dic(m, nid)"
   ]
  },
  {
   "cell_type": "code",
   "execution_count": 113,
   "id": "a5c73300-9a0b-45fe-8a9f-53a1600cd2a7",
   "metadata": {},
   "outputs": [
    {
     "ename": "NameError",
     "evalue": "name 'get_key_per_model' is not defined",
     "output_type": "error",
     "traceback": [
      "\u001b[1;31m---------------------------------------------------------------------------\u001b[0m",
      "\u001b[1;31mNameError\u001b[0m                                 Traceback (most recent call last)",
      "\u001b[1;32mC:\\Users\\ITAYY~1.WIS\\AppData\\Local\\Temp/ipykernel_17020/1937837372.py\u001b[0m in \u001b[0;36m<module>\u001b[1;34m\u001b[0m\n\u001b[0;32m      1\u001b[0m \u001b[0mm\u001b[0m \u001b[1;33m=\u001b[0m \u001b[0mmodels\u001b[0m\u001b[1;33m.\u001b[0m\u001b[0mEgoModel\u001b[0m\u001b[1;33m(\u001b[0m\u001b[0mn_bats\u001b[0m\u001b[1;33m=\u001b[0m\u001b[1;36m5\u001b[0m\u001b[1;33m,\u001b[0m \u001b[0mmax_iter\u001b[0m\u001b[1;33m=\u001b[0m\u001b[1;36m25\u001b[0m\u001b[1;33m,\u001b[0m \u001b[0mfit_intercept\u001b[0m\u001b[1;33m=\u001b[0m\u001b[1;32mTrue\u001b[0m\u001b[1;33m)\u001b[0m\u001b[1;33m\u001b[0m\u001b[1;33m\u001b[0m\u001b[0m\n\u001b[0;32m      2\u001b[0m \u001b[0mm\u001b[0m\u001b[1;33m.\u001b[0m\u001b[0mneuron_id\u001b[0m \u001b[1;33m=\u001b[0m \u001b[1;36m1002\u001b[0m\u001b[1;33m\u001b[0m\u001b[1;33m\u001b[0m\u001b[0m\n\u001b[1;32m----> 3\u001b[1;33m \u001b[0mk\u001b[0m \u001b[1;33m=\u001b[0m \u001b[0mget_key_per_model\u001b[0m\u001b[1;33m(\u001b[0m\u001b[0mm\u001b[0m\u001b[1;33m)\u001b[0m\u001b[1;33m\u001b[0m\u001b[1;33m\u001b[0m\u001b[0m\n\u001b[0m\u001b[0;32m      4\u001b[0m \u001b[0mm\u001b[0m \u001b[1;33m=\u001b[0m \u001b[0md\u001b[0m\u001b[1;33m[\u001b[0m\u001b[0mk\u001b[0m\u001b[1;33m]\u001b[0m\u001b[1;33m\u001b[0m\u001b[1;33m\u001b[0m\u001b[0m\n\u001b[0;32m      5\u001b[0m \u001b[0mdic_ego\u001b[0m \u001b[1;33m=\u001b[0m \u001b[0mcalc_dic\u001b[0m\u001b[1;33m(\u001b[0m\u001b[0mm\u001b[0m\u001b[1;33m)\u001b[0m\u001b[1;33m\u001b[0m\u001b[1;33m\u001b[0m\u001b[0m\n",
      "\u001b[1;31mNameError\u001b[0m: name 'get_key_per_model' is not defined"
     ]
    }
   ],
   "source": [
    "m = \n",
    "m.neuron_id = 1002\n",
    "k = get_key_per_model(m)\n",
    "m = d[k]\n",
    "dic_ego = calc_dic(m)"
   ]
  },
  {
   "cell_type": "code",
   "execution_count": 74,
   "id": "fca7c9d2-59e7-4729-970f-6c01f0ace4f5",
   "metadata": {},
   "outputs": [
    {
     "data": {
      "text/plain": [
       "-2283063.1374242883"
      ]
     },
     "execution_count": 74,
     "metadata": {},
     "output_type": "execute_result"
    }
   ],
   "source": [
    "get_loglikelihood_per_sample(mean_sample)"
   ]
  },
  {
   "cell_type": "code",
   "execution_count": 68,
   "id": "6a1ba8c5-dd64-4d18-845e-18c44833d6ca",
   "metadata": {},
   "outputs": [
    {
     "name": "stdout",
     "output_type": "stream",
     "text": [
      "EgoModel|['BAT_2_F_A', 'BAT_2_F_D']|72|0\n",
      "EgoModel|['BAT_2_F_A', 'BAT_2_F_D']|72|10000\n",
      "EgoModel|['BAT_1_F_A', 'BAT_1_F_D', 'BAT_2_F_A', 'BAT_2_F_D', 'BAT_3_F_A', 'BAT_3_F_D', 'BAT_4_F_A', 'BAT_4_F_D']|72|0\n",
      "EgoModel|['BAT_1_F_A', 'BAT_1_F_D', 'BAT_2_F_A', 'BAT_2_F_D', 'BAT_3_F_A', 'BAT_3_F_D', 'BAT_4_F_A', 'BAT_4_F_D']|72|0\n"
     ]
    }
   ],
   "source": [
    "d = shelve.open(Conf().CACHE_FOLDER + \"models\")\n",
    "for i in list(d.keys()):\n",
    "    if i.startswith(\"Ego\") and \"72\" in i:\n",
    "        print(i)\n",
    "print(k_ego)"
   ]
  }
 ],
 "metadata": {
  "kernelspec": {
   "display_name": "Python 3 (ipykernel)",
   "language": "python",
   "name": "python3"
  },
  "language_info": {
   "codemirror_mode": {
    "name": "ipython",
    "version": 3
   },
   "file_extension": ".py",
   "mimetype": "text/x-python",
   "name": "python",
   "nbconvert_exporter": "python",
   "pygments_lexer": "ipython3",
   "version": "3.10.1"
  }
 },
 "nbformat": 4,
 "nbformat_minor": 5
}
