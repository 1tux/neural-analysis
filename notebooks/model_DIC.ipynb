{
 "cells": [
  {
   "cell_type": "code",
   "execution_count": 2,
   "id": "f6065a38-60c7-4a45-9804-6e43d861e240",
   "metadata": {},
   "outputs": [],
   "source": [
    "import sys\n",
    "sys.path.append(\"..\")\n",
    "import os\n",
    "os.chdir(\"..\")"
   ]
  },
  {
   "cell_type": "code",
   "execution_count": 14,
   "id": "d545bbd8-98fa-4239-81a6-2b59ba71f64a",
   "metadata": {},
   "outputs": [],
   "source": [
    "os.chdir('git/neural-analysis')"
   ]
  },
  {
   "cell_type": "code",
   "execution_count": 3,
   "id": "a4972416-984b-4f59-8626-1b049caba57f",
   "metadata": {},
   "outputs": [],
   "source": [
    "# load model from cache\n",
    "# sample\n",
    "import shelve\n",
    "from conf import Conf\n",
    "import main\n",
    "import models\n",
    "import data_manager\n",
    "import features_lib\n",
    "\n",
    "nid = 72\n",
    "data = data_manager.Loader5()(nid)\n",
    "dataprop = data_manager.DataProp1(data)\n",
    "\n",
    "m = models.AlloModel(n_bats=5, max_iter=25, fit_intercept=False)\n",
    "d = shelve.open(Conf().CACHE_FOLDER + \"models\")\n",
    "k = models.ModelledNeuron(m, main.nid, shuffle_index=0)\n",
    "m = d[k.get_key()].model"
   ]
  },
  {
   "cell_type": "code",
   "execution_count": 48,
   "id": "3df16c14-494d-4494-bcb7-bfd06c12f548",
   "metadata": {},
   "outputs": [],
   "source": [
    "covariate_list = set(m.build_covariates_list()) & set(dataprop.data.columns)\n",
    "X = dataprop.data[covariate_list]\n",
    "y = dataprop.data[features_lib.get_label_name()]\n",
    "samples = m.gam_model.sample(X, y, quantity='coef', n_bootstraps=1, n_draws=1000)"
   ]
  },
  {
   "cell_type": "code",
   "execution_count": 54,
   "id": "25428745-863c-43f0-be09-5d74bfbe6751",
   "metadata": {},
   "outputs": [
    {
     "name": "stdout",
     "output_type": "stream",
     "text": [
      "-91625.01889627487\n",
      "1.30251145362854\n",
      "-108701.25542037014\n",
      "1.3174755573272705\n",
      "206937.87316468483\n"
     ]
    }
   ],
   "source": [
    "import numpy as np\n",
    "from copy import deepcopy\n",
    "import time\n",
    "\n",
    "m2 = deepcopy(m)\n",
    "mean_sample = np.mean(samples, axis=0)\n",
    "\n",
    "def get_loglikelihood_per_sample(sample):\n",
    "    m2.gam_model.coef_ = sample\n",
    "    ll = m2.gam_model.loglikelihood(X, y)\n",
    "    return ll\n",
    "\n",
    "t = time.time()\n",
    "print(get_loglikelihood_per_sample(samples[0]))\n",
    "t2 = time.time()\n",
    "print(t2 - t)\n",
    "print(get_loglikelihood_per_sample(samples[1]))\n",
    "t3 = time.time()\n",
    "print(t3 - t2)\n",
    "\n",
    "pDIC = 2*get_loglikelihood_per_sample(mean_sample) - 2*np.mean(list(map(get_loglikelihood_per_sample, samples)))\n",
    "dic = -2*get_loglikelihood_per_sample(mean_sample) + 2*pDIC\n",
    "print(dic)"
   ]
  },
  {
   "cell_type": "code",
   "execution_count": 23,
   "id": "aac88344-b89c-4849-bcaa-5118613c303e",
   "metadata": {},
   "outputs": [
    {
     "data": {
      "text/plain": [
       "array([1, 1, 1])"
      ]
     },
     "execution_count": 23,
     "metadata": {},
     "output_type": "execute_result"
    }
   ],
   "source": [
    "np.ones_like((100, 200, 300))"
   ]
  },
  {
   "cell_type": "code",
   "execution_count": 53,
   "id": "780681b9-33ba-413b-8a77-389d72613ff0",
   "metadata": {},
   "outputs": [
    {
     "data": {
      "text/plain": [
       "2.220446049250313e-16"
      ]
     },
     "execution_count": 53,
     "metadata": {},
     "output_type": "execute_result"
    }
   ],
   "source": [
    "np.finfo(float).eps"
   ]
  },
  {
   "cell_type": "code",
   "execution_count": 88,
   "id": "9c9165e4-a9ae-499a-8d56-41d89282a5fe",
   "metadata": {
    "tags": []
   },
   "outputs": [],
   "source": [
    "import numpy as np\n",
    "from copy import deepcopy\n",
    "import time\n",
    "\n",
    "m_ego = models.EgoModel(n_bats=5, max_iter=25, fit_intercept=True)\n",
    "m_ego.neuron_id = main.nid\n",
    "\n",
    "cache = {}\n",
    "from scipy.stats import poisson\n",
    "def get_loglikelihood_per_sample(m, sample):\n",
    "    if tuple(sample) not in cache:\n",
    "        global X, y\n",
    "        m2 = deepcopy(m)\n",
    "        m2.gam_model.coef_ = sample\n",
    "        weights = np.ones_like(mu)\n",
    "        y_pred = m2.gam_model.predict(X)\n",
    "        eps = np.finfo(float).eps\n",
    "        #ll = np.log((poisson.pmf(y, y_pred))).sum()\n",
    "        #cache[tuple(sample)] = ll\n",
    "        #return ll\n",
    "        ll_ = np.log(eps+poisson.pmf(y, y_pred))#.sum()\n",
    "        cache[tuple(sample)] = m2.gam_model.loglikelihood(X, y)\n",
    "        # print(\"my ll test:\", ll_.sum(), cache[tuple(sample)])\n",
    "        # print(\"predictions:\", y_pred[:10])\n",
    "        # print(\"actual rates:\", y[:10])\n",
    "        # print(\"likelihoods:\", np.exp(ll_[:10]))\n",
    "        # print(\"loglikelihoods:\", ll_[:10])\n",
    "    # print(cache[tuple(sample)])\n",
    "    return cache[tuple(sample)]\n",
    "\n",
    "def calc_dic(m, nid):\n",
    "    global samples\n",
    "    \n",
    "    k = models.ModelledNeuron(m, nid, shuffle_index=0)\n",
    "    d = shelve.open(Conf().CACHE_FOLDER + \"models\")\n",
    "\n",
    "    m = d[k.get_key()].model\n",
    "    # return m\n",
    "    # m.gam_model.summary()\n",
    "    # return (m.gam_model)\n",
    "    covariate_list = sorted(set(m.build_covariates_list()) & set(dataprop.data.columns))\n",
    "    print(covariate_list)\n",
    "    X = dataprop.data[covariate_list]\n",
    "    y = dataprop.data[features_lib.get_label_name()]\n",
    "    samples = m.gam_model.sample(X, y, quantity='coef', n_bootstraps=1, n_draws=1000)\n",
    "\n",
    "    print(\"<UNSTABLE> Original model ll:\",  m.gam_model.loglikelihood(X, y))\n",
    "    print(\"Original Model LL:\", get_loglikelihood_per_sample(m, m.gam_model.coef_))\n",
    "    print(\"SELF LL:\", m.gam_model.statistics_['loglikelihood'])\n",
    "    \n",
    "    m2 = deepcopy(m)\n",
    "    mean_sample = np.mean(samples, axis=0)\n",
    "    print(\"mean sample ll':\", get_loglikelihood_per_sample(m2, mean_sample))\n",
    "    print(\"original model ll':\",  get_loglikelihood_per_sample(m2, m2.gam_model.coef_))\n",
    "    mean_ll = get_loglikelihood_per_sample(m2, mean_sample)\n",
    "    distribution_ll = list(map(lambda x: get_loglikelihood_per_sample(m2, x), samples))\n",
    "    pDIC_ego = 2 * mean_ll - 2 * np.mean(distribution_ll) # effective number of params\n",
    "    dic_ego = -2*mean_ll + 2 * pDIC_ego\n",
    "    print(\"ll of best model:\", np.max(list(map(lambda x: get_loglikelihood_per_sample(m ,x), samples))))\n",
    "    best_model_coeff = samples[np.argmax(list(map(lambda x: get_loglikelihood_per_sample(m ,x), samples)))]\n",
    "    best_model = deepcopy(m)\n",
    "    best_model.gam_model.coef_ = best_model_coeff\n",
    "    best_model.y_pred = best_model.gam_model.predict(X)\n",
    "    # k.model.y_pred = k.model.gam_model.predict(X)\n",
    "    from main import calc_maps_and_plot_models\n",
    "    import rate_maps\n",
    "    # data = data_manager.Loader6()(m_ego.neuron_id)\n",
    "    # dataprop = data_manager.DataProp1(data)\n",
    "    data_maps = rate_maps.build_maps(dataprop)\n",
    "    import matplotlib.pyplot as plt\n",
    "    # plt.figure(figsize=(12, 8), dpi=80)\n",
    "    plt.rcParams[\"figure.figsize\"] = (20, 16)\n",
    "    \n",
    "    # calc_maps_and_plot_models(dataprop, data_maps, [models.ModelledNeuron(m, k.neuron_id, k.shuffle_index),\\\n",
    "    #                                                models.ModelledNeuron(best_model, k.neuron_id, k.shuffle_index)])\n",
    "    \n",
    "    print(pDIC_ego, dic_ego)\n",
    "    print(m.gam_model.statistics_['edof'])\n",
    "    return dic_ego\n",
    "\n"
   ]
  },
  {
   "cell_type": "code",
   "execution_count": 43,
   "id": "bef2118c-8f32-4fd7-a71f-e519234bec06",
   "metadata": {},
   "outputs": [
    {
     "name": "stdout",
     "output_type": "stream",
     "text": [
      "[ True  True  True ...  True  True  True]\n"
     ]
    }
   ],
   "source": [
    "p = model1.gam_model.predict(X)\n",
    "lp = model1.gam_model._linear_predictor(X)\n",
    "mu = model1.gam_model.link.mu(lp, model1.gam_model.distribution)\n",
    "print(mu == p)"
   ]
  },
  {
   "cell_type": "code",
   "execution_count": 40,
   "id": "a4951fff-f7cc-47d1-b7a3-ecb8727b07db",
   "metadata": {
    "collapsed": true,
    "jupyter": {
     "outputs_hidden": true
    },
    "tags": []
   },
   "outputs": [
    {
     "data": {
      "text/plain": [
       "\u001b[1;31mSignature:\u001b[0m \u001b[0mmodel1\u001b[0m\u001b[1;33m.\u001b[0m\u001b[0mgam_model\u001b[0m\u001b[1;33m.\u001b[0m\u001b[0mpredict_mu\u001b[0m\u001b[1;33m(\u001b[0m\u001b[0mX\u001b[0m\u001b[1;33m)\u001b[0m\u001b[1;33m\u001b[0m\u001b[1;33m\u001b[0m\u001b[0m\n",
       "\u001b[1;31mSource:\u001b[0m   \n",
       "    \u001b[1;32mdef\u001b[0m \u001b[0mpredict_mu\u001b[0m\u001b[1;33m(\u001b[0m\u001b[0mself\u001b[0m\u001b[1;33m,\u001b[0m \u001b[0mX\u001b[0m\u001b[1;33m)\u001b[0m\u001b[1;33m:\u001b[0m\u001b[1;33m\n",
       "\u001b[0m        \u001b[1;34m\"\"\"\n",
       "        preduct expected value of target given model and input X\n",
       "\n",
       "        Parameters\n",
       "        ---------\n",
       "        X : array-like of shape (n_samples, m_features),\n",
       "            containing the input dataset\n",
       "\n",
       "        Returns\n",
       "        -------\n",
       "        y : np.array of shape (n_samples,)\n",
       "            containing expected values under the model\n",
       "        \"\"\"\u001b[0m\u001b[1;33m\n",
       "\u001b[0m        \u001b[1;32mif\u001b[0m \u001b[1;32mnot\u001b[0m \u001b[0mself\u001b[0m\u001b[1;33m.\u001b[0m\u001b[0m_is_fitted\u001b[0m\u001b[1;33m:\u001b[0m\u001b[1;33m\n",
       "\u001b[0m            \u001b[1;32mraise\u001b[0m \u001b[0mAttributeError\u001b[0m\u001b[1;33m(\u001b[0m\u001b[1;34m'GAM has not been fitted. Call fit first.'\u001b[0m\u001b[1;33m)\u001b[0m\u001b[1;33m\n",
       "\u001b[0m\u001b[1;33m\n",
       "\u001b[0m        \u001b[0mX\u001b[0m \u001b[1;33m=\u001b[0m \u001b[0mcheck_X\u001b[0m\u001b[1;33m(\u001b[0m\u001b[0mX\u001b[0m\u001b[1;33m,\u001b[0m \u001b[0mn_feats\u001b[0m\u001b[1;33m=\u001b[0m\u001b[0mself\u001b[0m\u001b[1;33m.\u001b[0m\u001b[0mstatistics_\u001b[0m\u001b[1;33m[\u001b[0m\u001b[1;34m'm_features'\u001b[0m\u001b[1;33m]\u001b[0m\u001b[1;33m,\u001b[0m\u001b[1;33m\n",
       "\u001b[0m                    \u001b[0medge_knots\u001b[0m\u001b[1;33m=\u001b[0m\u001b[0mself\u001b[0m\u001b[1;33m.\u001b[0m\u001b[0medge_knots_\u001b[0m\u001b[1;33m,\u001b[0m \u001b[0mdtypes\u001b[0m\u001b[1;33m=\u001b[0m\u001b[0mself\u001b[0m\u001b[1;33m.\u001b[0m\u001b[0mdtype\u001b[0m\u001b[1;33m,\u001b[0m\u001b[1;33m\n",
       "\u001b[0m                    \u001b[0mfeatures\u001b[0m\u001b[1;33m=\u001b[0m\u001b[0mself\u001b[0m\u001b[1;33m.\u001b[0m\u001b[0mfeature\u001b[0m\u001b[1;33m,\u001b[0m \u001b[0mverbose\u001b[0m\u001b[1;33m=\u001b[0m\u001b[0mself\u001b[0m\u001b[1;33m.\u001b[0m\u001b[0mverbose\u001b[0m\u001b[1;33m)\u001b[0m\u001b[1;33m\n",
       "\u001b[0m\u001b[1;33m\n",
       "\u001b[0m        \u001b[0mlp\u001b[0m \u001b[1;33m=\u001b[0m \u001b[0mself\u001b[0m\u001b[1;33m.\u001b[0m\u001b[0m_linear_predictor\u001b[0m\u001b[1;33m(\u001b[0m\u001b[0mX\u001b[0m\u001b[1;33m)\u001b[0m\u001b[1;33m\n",
       "\u001b[0m        \u001b[1;32mreturn\u001b[0m \u001b[0mself\u001b[0m\u001b[1;33m.\u001b[0m\u001b[0mlink\u001b[0m\u001b[1;33m.\u001b[0m\u001b[0mmu\u001b[0m\u001b[1;33m(\u001b[0m\u001b[0mlp\u001b[0m\u001b[1;33m,\u001b[0m \u001b[0mself\u001b[0m\u001b[1;33m.\u001b[0m\u001b[0mdistribution\u001b[0m\u001b[1;33m)\u001b[0m\u001b[1;33m\u001b[0m\u001b[1;33m\u001b[0m\u001b[0m\n",
       "\u001b[1;31mFile:\u001b[0m      c:\\users\\itayy.wismain\\appdata\\local\\programs\\python\\python310\\lib\\site-packages\\pygam\\pygam.py\n",
       "\u001b[1;31mType:\u001b[0m      method\n"
      ]
     },
     "metadata": {},
     "output_type": "display_data"
    }
   ],
   "source": [
    "model1.gam_model.predict_mu??"
   ]
  },
  {
   "cell_type": "code",
   "execution_count": 90,
   "id": "3bc0c99c-9a6f-49cd-9620-8ace3bb03966",
   "metadata": {},
   "outputs": [
    {
     "name": "stdout",
     "output_type": "stream",
     "text": [
      "<class 'models.AlloModel'>\n",
      "['BAT_0_F_HD', 'BAT_0_F_X', 'BAT_0_F_Y', 'BAT_1_F_X', 'BAT_1_F_Y', 'BAT_2_F_X', 'BAT_2_F_Y', 'BAT_3_F_X', 'BAT_3_F_Y', 'BAT_4_F_X', 'BAT_4_F_Y']\n",
      "<UNSTABLE> Original model ll: -22939.07367484442\n",
      "Original Model LL: -22939.07367484442\n",
      "SELF LL: -22939.07367484442\n",
      "mean sample ll': -22939.07688908465\n",
      "original model ll': -22939.07367484442\n",
      "ll of best model: -22940.309601719127\n",
      "26.72497190854483 45931.60372198639\n",
      "30.665896555045716\n",
      "<class 'models.EgoModel'>\n",
      "['BAT_1_F_A', 'BAT_1_F_D', 'BAT_2_F_A', 'BAT_2_F_D', 'BAT_3_F_A', 'BAT_3_F_D', 'BAT_4_F_A', 'BAT_4_F_D']\n",
      "<UNSTABLE> Original model ll: -23189.784455393714\n",
      "Original Model LL: -23189.784455393714\n",
      "SELF LL: -23189.784455393714\n",
      "mean sample ll': -23189.890704405792\n",
      "original model ll': -23189.784455393714\n",
      "ll of best model: -23198.40375641847\n",
      "45.316244673143956 46470.41389815787\n",
      "50.31668568633927\n"
     ]
    }
   ],
   "source": [
    "import models\n",
    "\n",
    "nid = 72\n",
    "data = data_manager.Loader6()(nid)\n",
    "dataprop = data_manager.DataProp1(data)\n",
    "\n",
    "\n",
    "sub_models = [\n",
    "    models.AlloModel(n_bats=5, max_iter=25, fit_intercept=True),\n",
    "    models.EgoModel(n_bats=5, max_iter=25, fit_intercept=True)\n",
    "    ]\n",
    "\n",
    "for m in sub_models:\n",
    "    print(m.__class__)\n",
    "    covariate_list = sorted(set(m.build_covariates_list()) & set(dataprop.data.columns))\n",
    "    X = dataprop.data[covariate_list]\n",
    "    y = dataprop.data[features_lib.get_label_name()]\n",
    "\n",
    "    dic_allo = calc_dic(m, nid)"
   ]
  },
  {
   "cell_type": "code",
   "execution_count": 85,
   "id": "0bc7af7e-c18b-4709-b430-c41576020baa",
   "metadata": {},
   "outputs": [
    {
     "name": "stdout",
     "output_type": "stream",
     "text": [
      "PoissonGAM                                                                                                \n",
      "=============================================== ==========================================================\n",
      "Distribution:                       PoissonDist Effective DoF:                                     19.9868\n",
      "Link Function:                          LogLink Log Likelihood:                                  -764.8311\n",
      "Number of Samples:                        67006 AIC:                                             1569.6357\n",
      "                                                AICc:                                            1569.6495\n",
      "                                                UBRE:                                               2.0136\n",
      "                                                Scale:                                                 1.0\n",
      "                                                Pseudo R-Squared:                                   0.7613\n",
      "==========================================================================================================\n",
      "Feature Function                  Lambda               Rank         EDoF         P > x        Sig. Code   \n",
      "================================= ==================== ============ ============ ============ ============\n",
      "s(0)                              [1]                  10           5.5          0.00e+00     ***         \n",
      "s(1)                              [1]                  10           2.7          8.07e-02     .           \n",
      "s(2)                              [1]                  10           1.7          0.00e+00     ***         \n",
      "s(3)                              [1]                  10           2.0          0.00e+00     ***         \n",
      "s(4)                              [1]                  10           2.0          0.00e+00     ***         \n",
      "s(5)                              [1]                  10           2.7          3.16e-01                 \n",
      "s(6)                              [1]                  10           1.6          0.00e+00     ***         \n",
      "s(7)                              [1]                  10           1.8          1.43e-01                 \n",
      "intercept                                              1            0.0          0.00e+00     ***         \n",
      "==========================================================================================================\n",
      "Significance codes:  0 '***' 0.001 '**' 0.01 '*' 0.05 '.' 0.1 ' ' 1\n",
      "\n",
      "WARNING: Fitting splines and a linear function to a feature introduces a model identifiability problem\n",
      "         which can cause p-values to appear significant when they are not.\n",
      "\n",
      "WARNING: p-values calculated in this manner behave correctly for un-penalized models or models with\n",
      "         known smoothing parameters, but when smoothing parameters have been estimated, the p-values\n",
      "         are typically lower than they should be, meaning that the tests reject the null too readily.\n"
     ]
    },
    {
     "name": "stderr",
     "output_type": "stream",
     "text": [
      "C:\\Users\\ITAYY~1.WIS\\AppData\\Local\\Temp/ipykernel_11636/656752670.py:1: UserWarning: KNOWN BUG: p-values computed in this summary are likely much smaller than they should be. \n",
      " \n",
      "Please do not make inferences based on these values! \n",
      "\n",
      "Collaborate on a solution, and stay up to date at: \n",
      "github.com/dswah/pyGAM/issues/163 \n",
      "\n",
      "  model1.gam_model.summary()\n"
     ]
    }
   ],
   "source": [
    "model1.gam_model.summary()"
   ]
  },
  {
   "cell_type": "code",
   "execution_count": 189,
   "id": "7a2911cb-d702-4f6a-9f42-d6cbc30d8d85",
   "metadata": {},
   "outputs": [
    {
     "data": {
      "text/plain": [
       "[<matplotlib.lines.Line2D at 0x29f05fe36d0>]"
      ]
     },
     "execution_count": 189,
     "metadata": {},
     "output_type": "execute_result"
    },
    {
     "data": {
      "image/png": "[encoded data removed]",
      "text/plain": [
       "<Figure size 1440x1152 with 1 Axes>"
      ]
     },
     "metadata": {
      "needs_background": "light"
     },
     "output_type": "display_data"
    }
   ],
   "source": [
    "import matplotlib.pyplot as plt\n",
    "plt.plot(np.diag(train_model.statistics_['cov']))"
   ]
  },
  {
   "cell_type": "code",
   "execution_count": 176,
   "id": "45c97a93-4eda-45c7-b1a9-63082f41d1a5",
   "metadata": {},
   "outputs": [
    {
     "data": {
      "text/plain": [
       "\u001b[1;31mSignature:\u001b[0m\n",
       "\u001b[0mdic_allo\u001b[0m\u001b[1;33m(\u001b[0m\u001b[1;33m\n",
       "\u001b[0m    \u001b[0mX\u001b[0m\u001b[1;33m,\u001b[0m\u001b[1;33m\n",
       "\u001b[0m    \u001b[0my\u001b[0m\u001b[1;33m,\u001b[0m\u001b[1;33m\n",
       "\u001b[0m    \u001b[0mquantity\u001b[0m\u001b[1;33m=\u001b[0m\u001b[1;34m'y'\u001b[0m\u001b[1;33m,\u001b[0m\u001b[1;33m\n",
       "\u001b[0m    \u001b[0msample_at_X\u001b[0m\u001b[1;33m=\u001b[0m\u001b[1;32mNone\u001b[0m\u001b[1;33m,\u001b[0m\u001b[1;33m\n",
       "\u001b[0m    \u001b[0mweights\u001b[0m\u001b[1;33m=\u001b[0m\u001b[1;32mNone\u001b[0m\u001b[1;33m,\u001b[0m\u001b[1;33m\n",
       "\u001b[0m    \u001b[0mn_draws\u001b[0m\u001b[1;33m=\u001b[0m\u001b[1;36m100\u001b[0m\u001b[1;33m,\u001b[0m\u001b[1;33m\n",
       "\u001b[0m    \u001b[0mn_bootstraps\u001b[0m\u001b[1;33m=\u001b[0m\u001b[1;36m5\u001b[0m\u001b[1;33m,\u001b[0m\u001b[1;33m\n",
       "\u001b[0m    \u001b[0mobjective\u001b[0m\u001b[1;33m=\u001b[0m\u001b[1;34m'auto'\u001b[0m\u001b[1;33m,\u001b[0m\u001b[1;33m\n",
       "\u001b[0m\u001b[1;33m)\u001b[0m\u001b[1;33m\u001b[0m\u001b[1;33m\u001b[0m\u001b[0m\n",
       "\u001b[1;31mSource:\u001b[0m   \n",
       "    \u001b[1;32mdef\u001b[0m \u001b[0msample\u001b[0m\u001b[1;33m(\u001b[0m\u001b[0mself\u001b[0m\u001b[1;33m,\u001b[0m \u001b[0mX\u001b[0m\u001b[1;33m,\u001b[0m \u001b[0my\u001b[0m\u001b[1;33m,\u001b[0m \u001b[0mquantity\u001b[0m\u001b[1;33m=\u001b[0m\u001b[1;34m'y'\u001b[0m\u001b[1;33m,\u001b[0m \u001b[0msample_at_X\u001b[0m\u001b[1;33m=\u001b[0m\u001b[1;32mNone\u001b[0m\u001b[1;33m,\u001b[0m\u001b[1;33m\n",
       "\u001b[0m               \u001b[0mweights\u001b[0m\u001b[1;33m=\u001b[0m\u001b[1;32mNone\u001b[0m\u001b[1;33m,\u001b[0m \u001b[0mn_draws\u001b[0m\u001b[1;33m=\u001b[0m\u001b[1;36m100\u001b[0m\u001b[1;33m,\u001b[0m \u001b[0mn_bootstraps\u001b[0m\u001b[1;33m=\u001b[0m\u001b[1;36m5\u001b[0m\u001b[1;33m,\u001b[0m \u001b[0mobjective\u001b[0m\u001b[1;33m=\u001b[0m\u001b[1;34m'auto'\u001b[0m\u001b[1;33m)\u001b[0m\u001b[1;33m:\u001b[0m\u001b[1;33m\n",
       "\u001b[0m        \u001b[1;34m\"\"\"Simulate from the posterior of the coefficients and smoothing params.\n",
       "\n",
       "        Samples are drawn from the posterior of the coefficients and smoothing\n",
       "        parameters given the response in an approximate way. The GAM must\n",
       "        already be fitted before calling this method; if the model has not\n",
       "        been fitted, then an exception is raised. Moreover, it is recommended\n",
       "        that the model and its hyperparameters be chosen with `gridsearch`\n",
       "        (with the parameter `keep_best=True`) before calling `sample`, so that\n",
       "        the result of that gridsearch can be used to generate useful response\n",
       "        data and so that the model's coefficients (and their covariance matrix)\n",
       "        can be used as the first bootstrap sample.\n",
       "\n",
       "        These samples are drawn as follows. Details are in the reference below.\n",
       "\n",
       "        1. ``n_bootstraps`` many \"bootstrap samples\" of the response (``y``) are\n",
       "        simulated by drawing random samples from the model's distribution\n",
       "        evaluated at the expected values (``mu``) for each sample in ``X``.\n",
       "\n",
       "        2. A copy of the model is fitted to each of those bootstrap samples of\n",
       "        the response. The result is an approximation of the distribution over\n",
       "        the smoothing parameter ``lam`` given the response data ``y``.\n",
       "\n",
       "        3. Samples of the coefficients are simulated from a multivariate normal\n",
       "        using the bootstrap samples of the coefficients and their covariance\n",
       "        matrices.\n",
       "\n",
       "        Notes\n",
       "        -----\n",
       "        A ``gridsearch`` is done ``n_bootstraps`` many times, so keep\n",
       "        ``n_bootstraps`` small. Make ``n_bootstraps < n_draws`` to take advantage\n",
       "        of the expensive bootstrap samples of the smoothing parameters.\n",
       "\n",
       "        Parameters\n",
       "        -----------\n",
       "        X : array of shape (n_samples, m_features)\n",
       "              empirical input data\n",
       "\n",
       "        y : array of shape (n_samples,)\n",
       "              empirical response vector\n",
       "\n",
       "        quantity : {'y', 'coef', 'mu'}, default: 'y'\n",
       "            What quantity to return pseudorandom samples of.\n",
       "            If `sample_at_X` is not None and `quantity` is either `'y'` or\n",
       "            `'mu'`, then samples are drawn at the values of `X` specified in\n",
       "            `sample_at_X`.\n",
       "\n",
       "        sample_at_X : array of shape (n_samples_to_simulate, m_features) or\n",
       "        None, optional\n",
       "            Input data at which to draw new samples.\n",
       "\n",
       "            Only applies for `quantity` equal to `'y'` or to `'mu`'.\n",
       "            If `None`, then `sample_at_X` is replaced by `X`.\n",
       "\n",
       "        weights : np.array of shape (n_samples,)\n",
       "            sample weights\n",
       "\n",
       "        n_draws : positive int, optional (default=100)\n",
       "            The number of samples to draw from the posterior distribution of\n",
       "            the coefficients and smoothing parameters\n",
       "\n",
       "        n_bootstraps : positive int, optional (default=5)\n",
       "            The number of bootstrap samples to draw from simulations of the\n",
       "            response (from the already fitted model) to estimate the\n",
       "            distribution of the smoothing parameters given the response data.\n",
       "            If `n_bootstraps` is 1, then only the already fitted model's\n",
       "            smoothing parameter is used, and the distribution over the\n",
       "            smoothing parameters is not estimated using bootstrap sampling.\n",
       "\n",
       "        objective : string, optional (default='auto'\n",
       "            metric to optimize in grid search. must be in\n",
       "            ['AIC', 'AICc', 'GCV', 'UBRE', 'auto']\n",
       "            if 'auto', then grid search will optimize GCV for models with\n",
       "            unknown scale and UBRE for models with known scale.\n",
       "\n",
       "        Returns\n",
       "        -------\n",
       "        draws : 2D array of length n_draws\n",
       "            Simulations of the given `quantity` using samples from the\n",
       "            posterior distribution of the coefficients and smoothing parameter\n",
       "            given the response data. Each row is a pseudorandom sample.\n",
       "\n",
       "            If `quantity == 'coef'`, then the number of columns of `draws` is\n",
       "            the number of coefficients (`len(self.coef_)`).\n",
       "\n",
       "            Otherwise, the number of columns of `draws` is the number of\n",
       "            rows of `sample_at_X` if `sample_at_X` is not `None` or else\n",
       "            the number of rows of `X`.\n",
       "\n",
       "        References\n",
       "        ----------\n",
       "        Simon N. Wood, 2006. Generalized Additive Models: an introduction with\n",
       "        R. Section 4.9.3 (pages 198–199) and Section 5.4.2 (page 256–257).\n",
       "        \"\"\"\u001b[0m\u001b[1;33m\n",
       "\u001b[0m        \u001b[1;32mif\u001b[0m \u001b[0mquantity\u001b[0m \u001b[1;32mnot\u001b[0m \u001b[1;32min\u001b[0m \u001b[1;33m{\u001b[0m\u001b[1;34m'mu'\u001b[0m\u001b[1;33m,\u001b[0m \u001b[1;34m'coef'\u001b[0m\u001b[1;33m,\u001b[0m \u001b[1;34m'y'\u001b[0m\u001b[1;33m}\u001b[0m\u001b[1;33m:\u001b[0m\u001b[1;33m\n",
       "\u001b[0m            \u001b[1;32mraise\u001b[0m \u001b[0mValueError\u001b[0m\u001b[1;33m(\u001b[0m\u001b[1;34m\"`quantity` must be one of 'mu', 'coef', 'y';\"\u001b[0m\u001b[1;33m\n",
       "\u001b[0m                             \u001b[1;34m\" got {}\"\u001b[0m\u001b[1;33m.\u001b[0m\u001b[0mformat\u001b[0m\u001b[1;33m(\u001b[0m\u001b[0mquantity\u001b[0m\u001b[1;33m)\u001b[0m\u001b[1;33m)\u001b[0m\u001b[1;33m\n",
       "\u001b[0m\u001b[1;33m\n",
       "\u001b[0m        \u001b[0mcoef_draws\u001b[0m \u001b[1;33m=\u001b[0m \u001b[0mself\u001b[0m\u001b[1;33m.\u001b[0m\u001b[0m_sample_coef\u001b[0m\u001b[1;33m(\u001b[0m\u001b[1;33m\n",
       "\u001b[0m            \u001b[0mX\u001b[0m\u001b[1;33m,\u001b[0m \u001b[0my\u001b[0m\u001b[1;33m,\u001b[0m \u001b[0mweights\u001b[0m\u001b[1;33m=\u001b[0m\u001b[0mweights\u001b[0m\u001b[1;33m,\u001b[0m \u001b[0mn_draws\u001b[0m\u001b[1;33m=\u001b[0m\u001b[0mn_draws\u001b[0m\u001b[1;33m,\u001b[0m\u001b[1;33m\n",
       "\u001b[0m            \u001b[0mn_bootstraps\u001b[0m\u001b[1;33m=\u001b[0m\u001b[0mn_bootstraps\u001b[0m\u001b[1;33m,\u001b[0m \u001b[0mobjective\u001b[0m\u001b[1;33m=\u001b[0m\u001b[0mobjective\u001b[0m\u001b[1;33m)\u001b[0m\u001b[1;33m\n",
       "\u001b[0m\u001b[1;33m\n",
       "\u001b[0m        \u001b[1;32mif\u001b[0m \u001b[0mquantity\u001b[0m \u001b[1;33m==\u001b[0m \u001b[1;34m'coef'\u001b[0m\u001b[1;33m:\u001b[0m\u001b[1;33m\n",
       "\u001b[0m            \u001b[1;32mreturn\u001b[0m \u001b[0mcoef_draws\u001b[0m\u001b[1;33m\n",
       "\u001b[0m\u001b[1;33m\n",
       "\u001b[0m        \u001b[1;32mif\u001b[0m \u001b[0msample_at_X\u001b[0m \u001b[1;32mis\u001b[0m \u001b[1;32mNone\u001b[0m\u001b[1;33m:\u001b[0m\u001b[1;33m\n",
       "\u001b[0m            \u001b[0msample_at_X\u001b[0m \u001b[1;33m=\u001b[0m \u001b[0mX\u001b[0m\u001b[1;33m\n",
       "\u001b[0m\u001b[1;33m\n",
       "\u001b[0m        \u001b[0mlinear_predictor\u001b[0m \u001b[1;33m=\u001b[0m \u001b[0mself\u001b[0m\u001b[1;33m.\u001b[0m\u001b[0m_modelmat\u001b[0m\u001b[1;33m(\u001b[0m\u001b[0msample_at_X\u001b[0m\u001b[1;33m)\u001b[0m\u001b[1;33m.\u001b[0m\u001b[0mdot\u001b[0m\u001b[1;33m(\u001b[0m\u001b[0mcoef_draws\u001b[0m\u001b[1;33m.\u001b[0m\u001b[0mT\u001b[0m\u001b[1;33m)\u001b[0m\u001b[1;33m\n",
       "\u001b[0m        \u001b[0mmu_shape_n_draws_by_n_samples\u001b[0m \u001b[1;33m=\u001b[0m \u001b[0mself\u001b[0m\u001b[1;33m.\u001b[0m\u001b[0mlink\u001b[0m\u001b[1;33m.\u001b[0m\u001b[0mmu\u001b[0m\u001b[1;33m(\u001b[0m\u001b[1;33m\n",
       "\u001b[0m            \u001b[0mlinear_predictor\u001b[0m\u001b[1;33m,\u001b[0m \u001b[0mself\u001b[0m\u001b[1;33m.\u001b[0m\u001b[0mdistribution\u001b[0m\u001b[1;33m)\u001b[0m\u001b[1;33m.\u001b[0m\u001b[0mT\u001b[0m\u001b[1;33m\n",
       "\u001b[0m        \u001b[1;32mif\u001b[0m \u001b[0mquantity\u001b[0m \u001b[1;33m==\u001b[0m \u001b[1;34m'mu'\u001b[0m\u001b[1;33m:\u001b[0m\u001b[1;33m\n",
       "\u001b[0m            \u001b[1;32mreturn\u001b[0m \u001b[0mmu_shape_n_draws_by_n_samples\u001b[0m\u001b[1;33m\n",
       "\u001b[0m        \u001b[1;32melse\u001b[0m\u001b[1;33m:\u001b[0m\u001b[1;33m\n",
       "\u001b[0m            \u001b[1;32mreturn\u001b[0m \u001b[0mself\u001b[0m\u001b[1;33m.\u001b[0m\u001b[0mdistribution\u001b[0m\u001b[1;33m.\u001b[0m\u001b[0msample\u001b[0m\u001b[1;33m(\u001b[0m\u001b[0mmu_shape_n_draws_by_n_samples\u001b[0m\u001b[1;33m)\u001b[0m\u001b[1;33m\u001b[0m\u001b[1;33m\u001b[0m\u001b[0m\n",
       "\u001b[1;31mFile:\u001b[0m      c:\\users\\itayy.wismain\\appdata\\local\\programs\\python\\python310\\lib\\site-packages\\pygam\\pygam.py\n",
       "\u001b[1;31mType:\u001b[0m      method\n"
      ]
     },
     "metadata": {},
     "output_type": "display_data"
    }
   ],
   "source": [
    "dic_allo??"
   ]
  },
  {
   "cell_type": "code",
   "execution_count": 113,
   "id": "a5c73300-9a0b-45fe-8a9f-53a1600cd2a7",
   "metadata": {},
   "outputs": [
    {
     "ename": "NameError",
     "evalue": "name 'get_key_per_model' is not defined",
     "output_type": "error",
     "traceback": [
      "\u001b[1;31m---------------------------------------------------------------------------\u001b[0m",
      "\u001b[1;31mNameError\u001b[0m                                 Traceback (most recent call last)",
      "\u001b[1;32mC:\\Users\\ITAYY~1.WIS\\AppData\\Local\\Temp/ipykernel_17020/1937837372.py\u001b[0m in \u001b[0;36m<module>\u001b[1;34m\u001b[0m\n\u001b[0;32m      1\u001b[0m \u001b[0mm\u001b[0m \u001b[1;33m=\u001b[0m \u001b[0mmodels\u001b[0m\u001b[1;33m.\u001b[0m\u001b[0mEgoModel\u001b[0m\u001b[1;33m(\u001b[0m\u001b[0mn_bats\u001b[0m\u001b[1;33m=\u001b[0m\u001b[1;36m5\u001b[0m\u001b[1;33m,\u001b[0m \u001b[0mmax_iter\u001b[0m\u001b[1;33m=\u001b[0m\u001b[1;36m25\u001b[0m\u001b[1;33m,\u001b[0m \u001b[0mfit_intercept\u001b[0m\u001b[1;33m=\u001b[0m\u001b[1;32mTrue\u001b[0m\u001b[1;33m)\u001b[0m\u001b[1;33m\u001b[0m\u001b[1;33m\u001b[0m\u001b[0m\n\u001b[0;32m      2\u001b[0m \u001b[0mm\u001b[0m\u001b[1;33m.\u001b[0m\u001b[0mneuron_id\u001b[0m \u001b[1;33m=\u001b[0m \u001b[1;36m1002\u001b[0m\u001b[1;33m\u001b[0m\u001b[1;33m\u001b[0m\u001b[0m\n\u001b[1;32m----> 3\u001b[1;33m \u001b[0mk\u001b[0m \u001b[1;33m=\u001b[0m \u001b[0mget_key_per_model\u001b[0m\u001b[1;33m(\u001b[0m\u001b[0mm\u001b[0m\u001b[1;33m)\u001b[0m\u001b[1;33m\u001b[0m\u001b[1;33m\u001b[0m\u001b[0m\n\u001b[0m\u001b[0;32m      4\u001b[0m \u001b[0mm\u001b[0m \u001b[1;33m=\u001b[0m \u001b[0md\u001b[0m\u001b[1;33m[\u001b[0m\u001b[0mk\u001b[0m\u001b[1;33m]\u001b[0m\u001b[1;33m\u001b[0m\u001b[1;33m\u001b[0m\u001b[0m\n\u001b[0;32m      5\u001b[0m \u001b[0mdic_ego\u001b[0m \u001b[1;33m=\u001b[0m \u001b[0mcalc_dic\u001b[0m\u001b[1;33m(\u001b[0m\u001b[0mm\u001b[0m\u001b[1;33m)\u001b[0m\u001b[1;33m\u001b[0m\u001b[1;33m\u001b[0m\u001b[0m\n",
      "\u001b[1;31mNameError\u001b[0m: name 'get_key_per_model' is not defined"
     ]
    }
   ],
   "source": [
    "m = \n",
    "m.neuron_id = 1002\n",
    "k = get_key_per_model(m)\n",
    "m = d[k]\n",
    "dic_ego = calc_dic(m)"
   ]
  },
  {
   "cell_type": "code",
   "execution_count": 74,
   "id": "fca7c9d2-59e7-4729-970f-6c01f0ace4f5",
   "metadata": {},
   "outputs": [
    {
     "data": {
      "text/plain": [
       "-2283063.1374242883"
      ]
     },
     "execution_count": 74,
     "metadata": {},
     "output_type": "execute_result"
    }
   ],
   "source": [
    "get_loglikelihood_per_sample(mean_sample)"
   ]
  },
  {
   "cell_type": "code",
   "execution_count": 68,
   "id": "6a1ba8c5-dd64-4d18-845e-18c44833d6ca",
   "metadata": {},
   "outputs": [
    {
     "name": "stdout",
     "output_type": "stream",
     "text": [
      "EgoModel|['BAT_2_F_A', 'BAT_2_F_D']|72|0\n",
      "EgoModel|['BAT_2_F_A', 'BAT_2_F_D']|72|10000\n",
      "EgoModel|['BAT_1_F_A', 'BAT_1_F_D', 'BAT_2_F_A', 'BAT_2_F_D', 'BAT_3_F_A', 'BAT_3_F_D', 'BAT_4_F_A', 'BAT_4_F_D']|72|0\n",
      "EgoModel|['BAT_1_F_A', 'BAT_1_F_D', 'BAT_2_F_A', 'BAT_2_F_D', 'BAT_3_F_A', 'BAT_3_F_D', 'BAT_4_F_A', 'BAT_4_F_D']|72|0\n"
     ]
    }
   ],
   "source": [
    "d = shelve.open(Conf().CACHE_FOLDER + \"models\")\n",
    "for i in list(d.keys()):\n",
    "    if i.startswith(\"Ego\") and \"72\" in i:\n",
    "        print(i)\n",
    "print(k_ego)"
   ]
  }
 ],
 "metadata": {
  "kernelspec": {
   "display_name": "Python 3 (ipykernel)",
   "language": "python",
   "name": "python3"
  },
  "language_info": {
   "codemirror_mode": {
    "name": "ipython",
    "version": 3
   },
   "file_extension": ".py",
   "mimetype": "text/x-python",
   "name": "python",
   "nbconvert_exporter": "python",
   "pygments_lexer": "ipython3",
   "version": "3.10.1"
  }
 },
 "nbformat": 4,
 "nbformat_minor": 5
}
