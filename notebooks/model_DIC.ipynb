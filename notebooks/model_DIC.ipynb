{
 "cells": [
  {
   "cell_type": "code",
   "execution_count": 8,
   "id": "f6065a38-60c7-4a45-9804-6e43d861e240",
   "metadata": {},
   "outputs": [],
   "source": [
    "import sys\n",
    "sys.path.append(\"..\")\n",
    "import os\n",
    "os.chdir(\"..\")"
   ]
  },
  {
   "cell_type": "code",
   "execution_count": 14,
   "id": "d545bbd8-98fa-4239-81a6-2b59ba71f64a",
   "metadata": {},
   "outputs": [],
   "source": [
    "os.chdir('git/neural-analysis')"
   ]
  },
  {
   "cell_type": "code",
   "execution_count": 15,
   "id": "a4972416-984b-4f59-8626-1b049caba57f",
   "metadata": {},
   "outputs": [],
   "source": [
    "# load model from cache\n",
    "# sample\n",
    "import shelve\n",
    "from conf import Conf\n",
    "from models_utils import get_key_per_model\n",
    "import main\n",
    "import models\n",
    "import data_manager\n",
    "import features_lib\n",
    "\n",
    "main.nid = 72\n",
    "data = data_manager.Loader5()(main.nid)\n",
    "dataprop = data_manager.DataProp1(data)\n",
    "\n",
    "m = models.AlloModel(n_bats=5, max_iter=25, fit_intercept=False)\n",
    "d = shelve.open(Conf().CACHE_FOLDER + \"models\")\n",
    "m.neuron_id = main.nid\n",
    "k = get_key_per_model(m)\n",
    "m = d[k]"
   ]
  },
  {
   "cell_type": "code",
   "execution_count": 7,
   "id": "1c450a0d-65df-4c7a-8853-c9a9d33a3258",
   "metadata": {},
   "outputs": [
    {
     "data": {
      "text/plain": [
       "['BAT_0_F_HD',\n",
       " 'BAT_0_F_X',\n",
       " 'BAT_0_F_Y',\n",
       " 'BAT_1_F_A',\n",
       " 'BAT_1_F_D',\n",
       " 'BAT_1_F_X',\n",
       " 'BAT_1_F_Y',\n",
       " 'BAT_2_F_A',\n",
       " 'BAT_2_F_D',\n",
       " 'BAT_2_F_X',\n",
       " 'BAT_2_F_Y',\n",
       " 'BAT_3_F_A',\n",
       " 'BAT_3_F_D',\n",
       " 'BAT_3_F_X',\n",
       " 'BAT_3_F_Y',\n",
       " 'BAT_4_F_A',\n",
       " 'BAT_4_F_D',\n",
       " 'BAT_4_F_X',\n",
       " 'BAT_4_F_Y']"
      ]
     },
     "execution_count": 7,
     "metadata": {},
     "output_type": "execute_result"
    }
   ],
   "source": [
    "sorted(dataprop.data.columns.drop(features_lib.get_label_name()))"
   ]
  },
  {
   "cell_type": "code",
   "execution_count": 9,
   "id": "ce08257d-d375-40ca-bd4c-3d812512fdfe",
   "metadata": {},
   "outputs": [
    {
     "name": "stdout",
     "output_type": "stream",
     "text": [
      "PoissonGAM                                                                                                \n",
      "=============================================== ==========================================================\n",
      "Distribution:                       PoissonDist Effective DoF:                                     29.4854\n",
      "Link Function:                          LogLink Log Likelihood:                                 -15016.018\n",
      "Number of Samples:                        44546 AIC:                                            30091.0069\n",
      "                                                AICc:                                             30091.05\n",
      "                                                UBRE:                                               2.5388\n",
      "                                                Scale:                                                 1.0\n",
      "                                                Pseudo R-Squared:                                   0.0703\n",
      "==========================================================================================================\n",
      "Feature Function                  Lambda               Rank         EDoF         P > x        Sig. Code   \n",
      "================================= ==================== ============ ============ ============ ============\n",
      "s(0)                              [0.6]                10           7.4          0.00e+00     ***         \n",
      "te(1, 2)                          [0.6 0.6]            50           7.2          0.00e+00     ***         \n",
      "te(3, 4)                          [0.6 0.6]            50           5.9          0.00e+00     ***         \n",
      "te(5, 6)                          [0.6 0.6]            50           4.6          0.00e+00     ***         \n",
      "te(7, 8)                          [0.6 0.6]            50           2.3          0.00e+00     ***         \n",
      "te(9, 10)                         [0.6 0.6]            50           2.1          0.00e+00     ***         \n",
      "intercept                                              1            0.0          0.00e+00     ***         \n",
      "==========================================================================================================\n",
      "Significance codes:  0 '***' 0.001 '**' 0.01 '*' 0.05 '.' 0.1 ' ' 1\n",
      "\n",
      "WARNING: Fitting splines and a linear function to a feature introduces a model identifiability problem\n",
      "         which can cause p-values to appear significant when they are not.\n",
      "\n",
      "WARNING: p-values calculated in this manner behave correctly for un-penalized models or models with\n",
      "         known smoothing parameters, but when smoothing parameters have been estimated, the p-values\n",
      "         are typically lower than they should be, meaning that the tests reject the null too readily.\n"
     ]
    },
    {
     "name": "stderr",
     "output_type": "stream",
     "text": [
      "C:\\Users\\ITAYY~1.WIS\\AppData\\Local\\Temp/ipykernel_7256/3181566157.py:1: UserWarning: KNOWN BUG: p-values computed in this summary are likely much smaller than they should be. \n",
      " \n",
      "Please do not make inferences based on these values! \n",
      "\n",
      "Collaborate on a solution, and stay up to date at: \n",
      "github.com/dswah/pyGAM/issues/163 \n",
      "\n",
      "  m.gam_model.summary()\n"
     ]
    }
   ],
   "source": [
    "m.gam_model.summary()"
   ]
  },
  {
   "cell_type": "code",
   "execution_count": 10,
   "id": "ad34b9c2-5c9f-4aec-a062-d433f630a277",
   "metadata": {},
   "outputs": [
    {
     "data": {
      "text/plain": [
       "{'BAT_0_F_HD',\n",
       " 'BAT_0_F_X',\n",
       " 'BAT_0_F_Y',\n",
       " 'BAT_1_F_X',\n",
       " 'BAT_1_F_Y',\n",
       " 'BAT_2_F_X',\n",
       " 'BAT_2_F_Y',\n",
       " 'BAT_3_F_X',\n",
       " 'BAT_3_F_Y',\n",
       " 'BAT_4_F_X',\n",
       " 'BAT_4_F_Y'}"
      ]
     },
     "execution_count": 10,
     "metadata": {},
     "output_type": "execute_result"
    }
   ],
   "source": [
    "set(m.build_covariates_list()) & set(dataprop.data.columns)"
   ]
  },
  {
   "cell_type": "code",
   "execution_count": 48,
   "id": "3df16c14-494d-4494-bcb7-bfd06c12f548",
   "metadata": {},
   "outputs": [],
   "source": [
    "covariate_list = set(m.build_covariates_list()) & set(dataprop.data.columns)\n",
    "X = dataprop.data[covariate_list]\n",
    "y = dataprop.data[features_lib.get_label_name()]\n",
    "samples = m.gam_model.sample(X, y, quantity='coef', n_bootstraps=1, n_draws=1000)"
   ]
  },
  {
   "cell_type": "code",
   "execution_count": 54,
   "id": "25428745-863c-43f0-be09-5d74bfbe6751",
   "metadata": {},
   "outputs": [
    {
     "name": "stdout",
     "output_type": "stream",
     "text": [
      "-91625.01889627487\n",
      "1.30251145362854\n",
      "-108701.25542037014\n",
      "1.3174755573272705\n",
      "206937.87316468483\n"
     ]
    }
   ],
   "source": [
    "import numpy as np\n",
    "from copy import deepcopy\n",
    "import time\n",
    "\n",
    "m2 = deepcopy(m)\n",
    "mean_sample = np.mean(samples, axis=0)\n",
    "\n",
    "def get_loglikelihood_per_sample(sample):\n",
    "    m2.gam_model.coef_ = sample\n",
    "    ll = m2.gam_model.loglikelihood(X, y)\n",
    "    return ll\n",
    "\n",
    "t = time.time()\n",
    "print(get_loglikelihood_per_sample(samples[0]))\n",
    "t2 = time.time()\n",
    "print(t2 - t)\n",
    "print(get_loglikelihood_per_sample(samples[1]))\n",
    "t3 = time.time()\n",
    "print(t3 - t2)\n",
    "\n",
    "pDIC = 2*get_loglikelihood_per_sample(mean_sample) - 2*np.mean(list(map(get_loglikelihood_per_sample, samples)))\n",
    "dic = -2*get_loglikelihood_per_sample(mean_sample) + 2*pDIC\n",
    "print(dic)"
   ]
  },
  {
   "cell_type": "code",
   "execution_count": 3,
   "id": "9c9165e4-a9ae-499a-8d56-41d89282a5fe",
   "metadata": {
    "tags": []
   },
   "outputs": [
    {
     "ename": "NameError",
     "evalue": "name 'models' is not defined",
     "output_type": "error",
     "traceback": [
      "\u001b[1;31m---------------------------------------------------------------------------\u001b[0m",
      "\u001b[1;31mNameError\u001b[0m                                 Traceback (most recent call last)",
      "\u001b[1;32mC:\\Users\\ITAYY~1.WIS\\AppData\\Local\\Temp/ipykernel_15464/1015684711.py\u001b[0m in \u001b[0;36m<module>\u001b[1;34m\u001b[0m\n\u001b[0;32m      3\u001b[0m \u001b[1;32mimport\u001b[0m \u001b[0mtime\u001b[0m\u001b[1;33m\u001b[0m\u001b[1;33m\u001b[0m\u001b[0m\n\u001b[0;32m      4\u001b[0m \u001b[1;33m\u001b[0m\u001b[0m\n\u001b[1;32m----> 5\u001b[1;33m \u001b[0mm_ego\u001b[0m \u001b[1;33m=\u001b[0m \u001b[0mmodels\u001b[0m\u001b[1;33m.\u001b[0m\u001b[0mEgoModel\u001b[0m\u001b[1;33m(\u001b[0m\u001b[0mn_bats\u001b[0m\u001b[1;33m=\u001b[0m\u001b[1;36m5\u001b[0m\u001b[1;33m,\u001b[0m \u001b[0mmax_iter\u001b[0m\u001b[1;33m=\u001b[0m\u001b[1;36m25\u001b[0m\u001b[1;33m,\u001b[0m \u001b[0mfit_intercept\u001b[0m\u001b[1;33m=\u001b[0m\u001b[1;32mTrue\u001b[0m\u001b[1;33m)\u001b[0m\u001b[1;33m\u001b[0m\u001b[1;33m\u001b[0m\u001b[0m\n\u001b[0m\u001b[0;32m      6\u001b[0m \u001b[0mm_ego\u001b[0m\u001b[1;33m.\u001b[0m\u001b[0mneuron_id\u001b[0m \u001b[1;33m=\u001b[0m \u001b[0mmain\u001b[0m\u001b[1;33m.\u001b[0m\u001b[0mnid\u001b[0m\u001b[1;33m\u001b[0m\u001b[1;33m\u001b[0m\u001b[0m\n\u001b[0;32m      7\u001b[0m \u001b[1;33m\u001b[0m\u001b[0m\n",
      "\u001b[1;31mNameError\u001b[0m: name 'models' is not defined"
     ]
    }
   ],
   "source": [
    "import numpy as np\n",
    "from copy import deepcopy\n",
    "import time\n",
    "\n",
    "m_ego = models.EgoModel(n_bats=5, max_iter=25, fit_intercept=True)\n",
    "m_ego.neuron_id = main.nid\n",
    "\n",
    "def get_loglikelihood_per_sample(sample):\n",
    "    global m, X, y\n",
    "    m2 = deepcopy(m)\n",
    "    m2.gam_model.coef_ = sample\n",
    "    ll = m2.gam_model.loglikelihood(X, y)\n",
    "    return ll\n",
    "\n",
    "def calc_dic(m_ego):\n",
    "    global m, X, y\n",
    "    k_ego = get_key_per_model(m_ego)\n",
    "    m_ego = d[k_ego]\n",
    "    covariate_list = set(m_ego.build_covariates_list()) & set(dataprop.data.columns)\n",
    "    X = dataprop.data[covariate_list]\n",
    "    y = dataprop.data[features_lib.get_label_name()]\n",
    "    samples_ego = m_ego.gam_model.sample(X, y, quantity='coef', n_bootstraps=1, n_draws=10)\n",
    "\n",
    "    m2 = deepcopy(m_ego)\n",
    "    mean_sample = np.mean(samples_ego, axis=0)\n",
    "\n",
    "    pDIC_ego = 2*get_loglikelihood_per_sample(mean_sample) - 2*np.mean(list(map(get_loglikelihood_per_sample, samples_ego)))\n",
    "    dic_ego = -2*get_loglikelihood_per_sample(mean_sample) + 2*pDIC_ego\n",
    "    print(dic_ego)\n",
    "    return dic_ego\n",
    "\n"
   ]
  },
  {
   "cell_type": "code",
   "execution_count": 2,
   "id": "3bc0c99c-9a6f-49cd-9620-8ace3bb03966",
   "metadata": {},
   "outputs": [
    {
     "ename": "NameError",
     "evalue": "name 'models' is not defined",
     "output_type": "error",
     "traceback": [
      "\u001b[1;31m---------------------------------------------------------------------------\u001b[0m",
      "\u001b[1;31mNameError\u001b[0m                                 Traceback (most recent call last)",
      "\u001b[1;32mC:\\Users\\ITAYY~1.WIS\\AppData\\Local\\Temp/ipykernel_15464/3119758637.py\u001b[0m in \u001b[0;36m<module>\u001b[1;34m\u001b[0m\n\u001b[1;32m----> 1\u001b[1;33m \u001b[0mm\u001b[0m \u001b[1;33m=\u001b[0m \u001b[0mmodels\u001b[0m\u001b[1;33m.\u001b[0m\u001b[0mAlloModel\u001b[0m\u001b[1;33m(\u001b[0m\u001b[0mn_bats\u001b[0m\u001b[1;33m=\u001b[0m\u001b[1;36m5\u001b[0m\u001b[1;33m,\u001b[0m \u001b[0mmax_iter\u001b[0m\u001b[1;33m=\u001b[0m\u001b[1;36m25\u001b[0m\u001b[1;33m,\u001b[0m \u001b[0mfit_intercept\u001b[0m\u001b[1;33m=\u001b[0m\u001b[1;32mTrue\u001b[0m\u001b[1;33m)\u001b[0m\u001b[1;33m\u001b[0m\u001b[1;33m\u001b[0m\u001b[0m\n\u001b[0m\u001b[0;32m      2\u001b[0m \u001b[0mm\u001b[0m\u001b[1;33m.\u001b[0m\u001b[0mneuron_id\u001b[0m \u001b[1;33m=\u001b[0m \u001b[1;36m1003\u001b[0m\u001b[1;33m\u001b[0m\u001b[1;33m\u001b[0m\u001b[0m\n\u001b[0;32m      3\u001b[0m \u001b[0mk\u001b[0m \u001b[1;33m=\u001b[0m \u001b[0mget_key_per_model\u001b[0m\u001b[1;33m(\u001b[0m\u001b[0mm\u001b[0m\u001b[1;33m)\u001b[0m\u001b[1;33m\u001b[0m\u001b[1;33m\u001b[0m\u001b[0m\n\u001b[0;32m      4\u001b[0m \u001b[0mm\u001b[0m \u001b[1;33m=\u001b[0m \u001b[0md\u001b[0m\u001b[1;33m[\u001b[0m\u001b[0mk\u001b[0m\u001b[1;33m]\u001b[0m\u001b[1;33m\u001b[0m\u001b[1;33m\u001b[0m\u001b[0m\n\u001b[0;32m      5\u001b[0m \u001b[0mdic_allo\u001b[0m \u001b[1;33m=\u001b[0m \u001b[0mcalc_dic\u001b[0m\u001b[1;33m(\u001b[0m\u001b[0mm\u001b[0m\u001b[1;33m)\u001b[0m\u001b[1;33m\u001b[0m\u001b[1;33m\u001b[0m\u001b[0m\n",
      "\u001b[1;31mNameError\u001b[0m: name 'models' is not defined"
     ]
    }
   ],
   "source": [
    "m = models.AlloModel(n_bats=5, max_iter=25, fit_intercept=True)\n",
    "m.neuron_id = 1003\n",
    "k = get_key_per_model(m)\n",
    "m = d[k]\n",
    "dic_allo = calc_dic(m)"
   ]
  },
  {
   "cell_type": "code",
   "execution_count": null,
   "id": "a5c73300-9a0b-45fe-8a9f-53a1600cd2a7",
   "metadata": {},
   "outputs": [
    {
     "name": "stdout",
     "output_type": "stream",
     "text": [
      "828045.5187325929\n"
     ]
    }
   ],
   "source": [
    "m = models.EgoModel(n_bats=5, max_iter=25, fit_intercept=True)\n",
    "m.neuron_id = 1003\n",
    "k = get_key_per_model(m)\n",
    "m = d[k]\n",
    "dic_ego = calc_dic(m)"
   ]
  },
  {
   "cell_type": "code",
   "execution_count": 74,
   "id": "fca7c9d2-59e7-4729-970f-6c01f0ace4f5",
   "metadata": {},
   "outputs": [
    {
     "data": {
      "text/plain": [
       "-2283063.1374242883"
      ]
     },
     "execution_count": 74,
     "metadata": {},
     "output_type": "execute_result"
    }
   ],
   "source": [
    "get_loglikelihood_per_sample(mean_sample)"
   ]
  },
  {
   "cell_type": "code",
   "execution_count": 68,
   "id": "6a1ba8c5-dd64-4d18-845e-18c44833d6ca",
   "metadata": {},
   "outputs": [
    {
     "name": "stdout",
     "output_type": "stream",
     "text": [
      "EgoModel|['BAT_2_F_A', 'BAT_2_F_D']|72|0\n",
      "EgoModel|['BAT_2_F_A', 'BAT_2_F_D']|72|10000\n",
      "EgoModel|['BAT_1_F_A', 'BAT_1_F_D', 'BAT_2_F_A', 'BAT_2_F_D', 'BAT_3_F_A', 'BAT_3_F_D', 'BAT_4_F_A', 'BAT_4_F_D']|72|0\n",
      "EgoModel|['BAT_1_F_A', 'BAT_1_F_D', 'BAT_2_F_A', 'BAT_2_F_D', 'BAT_3_F_A', 'BAT_3_F_D', 'BAT_4_F_A', 'BAT_4_F_D']|72|0\n"
     ]
    }
   ],
   "source": [
    "d = shelve.open(Conf().CACHE_FOLDER + \"models\")\n",
    "for i in list(d.keys()):\n",
    "    if i.startswith(\"Ego\") and \"72\" in i:\n",
    "        print(i)\n",
    "print(k_ego)"
   ]
  }
 ],
 "metadata": {
  "kernelspec": {
   "display_name": "Python 3 (ipykernel)",
   "language": "python",
   "name": "python3"
  },
  "language_info": {
   "codemirror_mode": {
    "name": "ipython",
    "version": 3
   },
   "file_extension": ".py",
   "mimetype": "text/x-python",
   "name": "python",
   "nbconvert_exporter": "python",
   "pygments_lexer": "ipython3",
   "version": "3.10.1"
  }
 },
 "nbformat": 4,
 "nbformat_minor": 5
}
