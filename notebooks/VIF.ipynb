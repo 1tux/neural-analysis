{
 "cells": [
  {
   "cell_type": "code",
   "execution_count": 1,
   "id": "8b9f2a24-6890-487e-bcf3-1f6b440a004b",
   "metadata": {},
   "outputs": [],
   "source": [
    "import sys\n",
    "sys.path.append(\"..\")\n",
    "import os\n",
    "os.chdir(\"..\")"
   ]
  },
  {
   "cell_type": "code",
   "execution_count": 12,
   "id": "0ed535d3-716c-40ca-905d-c934bb9fe545",
   "metadata": {},
   "outputs": [
    {
     "data": {
      "text/plain": [
       "Index(['BAT_0_F_X', 'BAT_0_F_Y', 'BAT_0_F_HD', 'BAT_1_F_D', 'BAT_1_F_X',\n",
       "       'BAT_1_F_Y', 'BAT_1_F_A', 'BAT_2_F_D', 'BAT_2_F_X', 'BAT_2_F_Y',\n",
       "       'BAT_2_F_A', 'BAT_3_F_D', 'BAT_3_F_X', 'BAT_3_F_Y', 'BAT_3_F_A',\n",
       "       'BAT_4_F_D', 'BAT_4_F_X', 'BAT_4_F_Y', 'BAT_4_F_A', 'neuron', 'index',\n",
       "       'time'],\n",
       "      dtype='object')"
      ]
     },
     "execution_count": 12,
     "metadata": {},
     "output_type": "execute_result"
    }
   ],
   "source": [
    "data['time'] = data.index\n",
    "data.columns"
   ]
  },
  {
   "cell_type": "code",
   "execution_count": 13,
   "id": "858fbdf3-cd35-4a16-97de-b57a40801197",
   "metadata": {},
   "outputs": [
    {
     "name": "stdout",
     "output_type": "stream",
     "text": [
      "['BAT_0_F_HD', 'BAT_0_F_X', 'BAT_0_F_Y', 'BAT_1_F_X', 'BAT_1_F_Y', 'BAT_2_F_X', 'BAT_2_F_Y', 'BAT_3_F_X', 'BAT_3_F_Y', 'BAT_4_F_X', 'BAT_4_F_Y']\n",
      "0.9999999999999998 0.0658825492742822\n",
      "Index(['BAT_0_F_HD', 'BAT_1_F_A', 'BAT_1_F_D', 'BAT_1_F_X', 'BAT_1_F_Y',\n",
      "       'BAT_2_F_A', 'BAT_2_F_D', 'BAT_2_F_X', 'BAT_2_F_Y', 'BAT_3_F_A',\n",
      "       'BAT_3_F_D', 'BAT_3_F_X', 'BAT_3_F_Y', 'BAT_4_F_A', 'BAT_4_F_D',\n",
      "       'BAT_4_F_X', 'BAT_4_F_Y', 'neuron'],\n",
      "      dtype='object') BAT_0_F_X BAT_0_F_Y\n",
      "two-d variances [[1.00001492 0.67562399]\n",
      " [0.67562399 1.00001492]] [[ 0.09181708 -0.03584865]\n",
      " [-0.03584865  0.10258909]]\n",
      "Index(['BAT_0_F_HD', 'BAT_0_F_X', 'BAT_0_F_Y', 'BAT_1_F_X', 'BAT_1_F_Y',\n",
      "       'BAT_3_F_X', 'BAT_3_F_Y', 'BAT_4_F_X', 'BAT_4_F_Y'],\n",
      "      dtype='object') BAT_2_F_X BAT_2_F_Y\n",
      "two-d variances [[ 1.00001492 -0.02799426]\n",
      " [-0.02799426  1.00001492]] [[0.34595303 0.03561378]\n",
      " [0.03561378 0.39181631]]\n",
      "Index(['BAT_0_F_HD', 'BAT_0_F_X', 'BAT_0_F_Y', 'BAT_1_F_X', 'BAT_1_F_Y',\n",
      "       'BAT_2_F_X', 'BAT_2_F_Y', 'BAT_4_F_X', 'BAT_4_F_Y', 'time'],\n",
      "      dtype='object') BAT_3_F_X BAT_3_F_Y\n"
     ]
    },
    {
     "name": "stderr",
     "output_type": "stream",
     "text": [
      "C:\\Users\\ITAYY~1.WIS\\AppData\\Local\\Temp/ipykernel_10940/3294412236.py:19: SettingWithCopyWarning: \n",
      "A value is trying to be set on a copy of a slice from a DataFrame.\n",
      "Try using .loc[row_indexer,col_indexer] = value instead\n",
      "\n",
      "See the caveats in the documentation: https://pandas.pydata.org/pandas-docs/stable/user_guide/indexing.html#returning-a-view-versus-a-copy\n",
      "  data['time'] = data.index\n"
     ]
    },
    {
     "name": "stdout",
     "output_type": "stream",
     "text": [
      "two-d variances [[1.00001492 0.79817309]\n",
      " [0.79817309 1.00001492]] [[0.23733381 0.08117162]\n",
      " [0.08117162 0.21423233]]\n",
      "15.178526195712314 8.174559430279162 2.727896148433876 2.8637711913397075\n"
     ]
    }
   ],
   "source": [
    "from importlib import reload\n",
    "import scripts.VIF\n",
    "reload(scripts.VIF)\n",
    "import data_manager\n",
    "import models\n",
    "import models\n",
    "\n",
    "nid = 72\n",
    "data = data_manager.Loader5()(nid)\n",
    "dataprop = data_manager.DataProp1(data)\n",
    "cols = sorted(set(dataprop.data.columns) & set(models.AlloModel(n_bats=5).build_covariates_list()) - set(\"neuron\"))\n",
    "print(cols)\n",
    "\n",
    "data = dataprop.data\n",
    "v1 = scripts.VIF.calc_gam_general_VIF(data, \"BAT_1_F_D\")\n",
    "v2 = scripts.VIF.calc_gam_general_VIF(data, \"BAT_0_F_POS\")\n",
    "data = dataprop.data[cols]\n",
    "v3 = scripts.VIF.calc_gam_general_VIF(data, \"BAT_2_F_POS\")\n",
    "data['time'] = data.index\n",
    "v4 = scripts.VIF.calc_gam_general_VIF(data, \"BAT_3_F_POS\")\n",
    "print(v1, v2, v3, v4)"
   ]
  }
 ],
 "metadata": {
  "kernelspec": {
   "display_name": "Python 3 (ipykernel)",
   "language": "python",
   "name": "python3"
  },
  "language_info": {
   "codemirror_mode": {
    "name": "ipython",
    "version": 3
   },
   "file_extension": ".py",
   "mimetype": "text/x-python",
   "name": "python",
   "nbconvert_exporter": "python",
   "pygments_lexer": "ipython3",
   "version": "3.10.1"
  }
 },
 "nbformat": 4,
 "nbformat_minor": 5
}
