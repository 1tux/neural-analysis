{
 "cells": [
  {
   "cell_type": "code",
   "execution_count": 1,
   "id": "f6065a38-60c7-4a45-9804-6e43d861e240",
   "metadata": {},
   "outputs": [],
   "source": [
    "import sys\n",
    "sys.path.append(\"..\")\n",
    "import os\n",
    "os.chdir(\"..\")"
   ]
  },
  {
   "cell_type": "code",
   "execution_count": 23,
   "id": "a4972416-984b-4f59-8626-1b049caba57f",
   "metadata": {},
   "outputs": [],
   "source": [
    "# load model from cache\n",
    "# sample\n",
    "import shelve\n",
    "from conf import Conf\n",
    "from main import get_key_per_model\n",
    "import main\n",
    "import models\n",
    "import data_manager\n",
    "import features_lib\n",
    "\n",
    "main.nid = 72\n",
    "data = data_manager.Loader5()(main.nid)\n",
    "dataprop = data_manager.DataProp1(data)\n",
    "\n",
    "m = models.AlloModel(n_bats=5, max_iter=25, fit_intercept=False)\n",
    "d = shelve.open(Conf().CACHE_FOLDER + \"models\")\n",
    "k = get_key_per_model(m, 0)\n",
    "m = d[k]"
   ]
  },
  {
   "cell_type": "code",
   "execution_count": 35,
   "id": "1c450a0d-65df-4c7a-8853-c9a9d33a3258",
   "metadata": {},
   "outputs": [
    {
     "data": {
      "text/plain": [
       "['BAT_0_F_HD',\n",
       " 'BAT_0_F_X',\n",
       " 'BAT_0_F_Y',\n",
       " 'BAT_1_F_A',\n",
       " 'BAT_1_F_D',\n",
       " 'BAT_1_F_X',\n",
       " 'BAT_1_F_Y',\n",
       " 'BAT_2_F_A',\n",
       " 'BAT_2_F_D',\n",
       " 'BAT_2_F_X',\n",
       " 'BAT_2_F_Y',\n",
       " 'BAT_3_F_A',\n",
       " 'BAT_3_F_D',\n",
       " 'BAT_3_F_X',\n",
       " 'BAT_3_F_Y',\n",
       " 'BAT_4_F_A',\n",
       " 'BAT_4_F_D',\n",
       " 'BAT_4_F_X',\n",
       " 'BAT_4_F_Y']"
      ]
     },
     "execution_count": 35,
     "metadata": {},
     "output_type": "execute_result"
    }
   ],
   "source": [
    "sorted(dataprop.data.columns.drop(features_lib.get_label_name()))"
   ]
  },
  {
   "cell_type": "code",
   "execution_count": 34,
   "id": "ce08257d-d375-40ca-bd4c-3d812512fdfe",
   "metadata": {},
   "outputs": [
    {
     "name": "stdout",
     "output_type": "stream",
     "text": [
      "PoissonGAM                                                                                                \n",
      "=============================================== ==========================================================\n",
      "Distribution:                       PoissonDist Effective DoF:                                     29.4486\n",
      "Link Function:                          LogLink Log Likelihood:                                -15016.0493\n",
      "Number of Samples:                        44546 AIC:                                            30090.9957\n",
      "                                                AICc:                                           30091.0388\n",
      "                                                UBRE:                                               2.5388\n",
      "                                                Scale:                                                 1.0\n",
      "                                                Pseudo R-Squared:                                   0.0703\n",
      "==========================================================================================================\n",
      "Feature Function                  Lambda               Rank         EDoF         P > x        Sig. Code   \n",
      "================================= ==================== ============ ============ ============ ============\n",
      "s(0)                              [0.6]                10           7.4          0.00e+00     ***         \n",
      "te(1, 2)                          [0.6 0.6]            50           7.2          0.00e+00     ***         \n",
      "te(3, 4)                          [0.6 0.6]            50           5.9          0.00e+00     ***         \n",
      "te(5, 6)                          [0.6 0.6]            50           4.6          0.00e+00     ***         \n",
      "te(7, 8)                          [0.6 0.6]            50           2.3          6.66e-16     ***         \n",
      "te(9, 10)                         [0.6 0.6]            50           2.1          0.00e+00     ***         \n",
      "==========================================================================================================\n",
      "Significance codes:  0 '***' 0.001 '**' 0.01 '*' 0.05 '.' 0.1 ' ' 1\n",
      "\n",
      "WARNING: Fitting splines and a linear function to a feature introduces a model identifiability problem\n",
      "         which can cause p-values to appear significant when they are not.\n",
      "\n",
      "WARNING: p-values calculated in this manner behave correctly for un-penalized models or models with\n",
      "         known smoothing parameters, but when smoothing parameters have been estimated, the p-values\n",
      "         are typically lower than they should be, meaning that the tests reject the null too readily.\n"
     ]
    },
    {
     "name": "stderr",
     "output_type": "stream",
     "text": [
      "C:\\Users\\itay\\AppData\\Local\\Temp\\ipykernel_2676\\3968141052.py:1: UserWarning: KNOWN BUG: p-values computed in this summary are likely much smaller than they should be. \n",
      " \n",
      "Please do not make inferences based on these values! \n",
      "\n",
      "Collaborate on a solution, and stay up to date at: \n",
      "github.com/dswah/pyGAM/issues/163 \n",
      "\n",
      "  m.gam_model.summary()\n"
     ]
    },
    {
     "data": {
      "text/plain": [
       "Index(['BAT_0_F_X', 'BAT_0_F_Y', 'BAT_0_F_HD', 'BAT_1_F_D', 'BAT_1_F_X',\n",
       "       'BAT_1_F_Y', 'BAT_1_F_A', 'BAT_2_F_D', 'BAT_2_F_X', 'BAT_2_F_Y',\n",
       "       'BAT_2_F_A', 'BAT_3_F_D', 'BAT_3_F_X', 'BAT_3_F_Y', 'BAT_3_F_A',\n",
       "       'BAT_4_F_D', 'BAT_4_F_X', 'BAT_4_F_Y', 'BAT_4_F_A'],\n",
       "      dtype='object')"
      ]
     },
     "execution_count": 34,
     "metadata": {},
     "output_type": "execute_result"
    }
   ],
   "source": [
    "m.gam_model.summary()\n",
    "X"
   ]
  },
  {
   "cell_type": "code",
   "execution_count": 40,
   "id": "ad34b9c2-5c9f-4aec-a062-d433f630a277",
   "metadata": {},
   "outputs": [
    {
     "data": {
      "text/plain": [
       "{'BAT_0_F_HD',\n",
       " 'BAT_0_F_X',\n",
       " 'BAT_0_F_Y',\n",
       " 'BAT_1_F_X',\n",
       " 'BAT_1_F_Y',\n",
       " 'BAT_2_F_X',\n",
       " 'BAT_2_F_Y',\n",
       " 'BAT_3_F_X',\n",
       " 'BAT_3_F_Y',\n",
       " 'BAT_4_F_X',\n",
       " 'BAT_4_F_Y'}"
      ]
     },
     "execution_count": 40,
     "metadata": {},
     "output_type": "execute_result"
    }
   ],
   "source": [
    "set(m.build_covariates_list()) & set(dataprop.data.columns)"
   ]
  },
  {
   "cell_type": "code",
   "execution_count": 44,
   "id": "3df16c14-494d-4494-bcb7-bfd06c12f548",
   "metadata": {},
   "outputs": [],
   "source": [
    "covariate_list = set(m.build_covariates_list()) & set(dataprop.data.columns)\n",
    "X = dataprop.data[covariate_list]\n",
    "y = dataprop.data[features_lib.get_label_name()]\n",
    "samples = m.gam_model.sample(X, y, quantity='coef', n_bootstraps=1)"
   ]
  },
  {
   "cell_type": "code",
   "execution_count": 45,
   "id": "25428745-863c-43f0-be09-5d74bfbe6751",
   "metadata": {},
   "outputs": [
    {
     "data": {
      "text/plain": [
       "array([-4.53813563, -3.73052706, -2.89307392, -2.97811309, -1.84307586,\n",
       "       -2.549659  , -2.86207917, -3.34739985, -3.74748841, -4.53816352,\n",
       "       -8.13438094, -5.36564984, -2.75727925, -0.14686211,  2.59768502,\n",
       "       -7.04057835, -4.21965811, -1.738158  ,  0.29003408,  2.30386374,\n",
       "       -5.94680016, -3.39624029, -0.84519142,  0.86199902,  2.00953465,\n",
       "       -4.8533929 , -2.6391758 , -0.46854595,  0.8231699 ,  1.71585002,\n",
       "       -3.75970234, -1.88155464, -0.09195034,  0.78407289,  1.42174724,\n",
       "       -2.74262358, -1.12463411,  0.28496759,  0.7453472 ,  1.12761575,\n",
       "       -1.84802535, -0.36734972,  0.66134597,  0.70642968,  0.83357855,\n",
       "       -0.83633935,  0.14517935,  0.79536904,  0.66765617,  0.53996556,\n",
       "        0.17493733,  0.6577697 ,  0.92944457,  0.62857208,  0.32753098,\n",
       "        1.27746058,  1.1706548 ,  1.06342424,  0.58986685,  0.11615157,\n",
       "       -2.1005836 , -2.385527  , -2.67056278, -2.95543092, -3.24050803,\n",
       "       -1.2322894 , -1.56447688, -1.88498277, -2.20577997, -2.52640041,\n",
       "       -0.41485735, -0.75039693, -1.09981342, -1.47050158, -1.84564991,\n",
       "        0.29269636,  0.0169155 , -0.31433818, -0.73490359, -1.26514031,\n",
       "        0.84589375,  0.66894656,  0.49205376, -0.03571564, -0.85503333,\n",
       "        1.24917068,  0.97289334,  0.59968901,  0.22622899, -0.56245006,\n",
       "        1.00663525,  0.92595844,  0.7069418 ,  0.48834674, -0.27017295,\n",
       "        0.09153564,  0.4529825 ,  0.81469983,  0.75045264,  0.02185069,\n",
       "       -0.96243647, -0.0197535 ,  0.92236901,  1.01275035,  0.31427527,\n",
       "       -2.01579919, -0.49272036,  1.00347894,  1.27446023,  0.60658223,\n",
       "       -1.79348999, -1.0325044 , -0.27199349,  0.48855529,  1.24915716,\n",
       "       -1.88280206, -0.98419119, -0.0852388 ,  0.61424701,  1.20174827,\n",
       "       -2.05415662, -0.93871471,  0.10158115,  0.83669035,  1.00703742,\n",
       "       -2.28078975, -0.92430309,  0.45964017,  1.0593233 ,  0.8125415 ,\n",
       "       -2.4618802 , -0.821984  ,  0.81779991,  1.28189552,  0.61785525,\n",
       "       -2.53587335, -0.94439983,  0.63380354,  1.05836407,  0.4231962 ,\n",
       "       -2.58426143, -1.06713776,  0.44967397,  0.83489019,  0.228484  ,\n",
       "       -2.64515208, -1.18971243,  0.26564677,  0.61119658,  0.03386467,\n",
       "       -2.70653258, -1.31214576,  0.08162503,  0.38763533, -0.1607849 ,\n",
       "       -2.76766058, -1.43497408, -0.10219624,  0.1639195 , -0.35546146,\n",
       "        1.41512188,  0.74372415,  0.07237152, -0.59915472, -1.27036193,\n",
       "        1.19896459,  0.69776688,  0.09324052, -0.40483029, -1.04960215,\n",
       "        0.88239133,  0.50266543,  0.11355332, -0.41684516, -0.99904051,\n",
       "        0.47434728,  0.30730456,  0.13456107, -0.42944999, -1.13995063,\n",
       "        0.06604141,  0.1123348 ,  0.15515092, -0.44154828, -1.44143202,\n",
       "       -0.34230378, -0.08305045,  0.17584034, -0.45376671, -1.74224412,\n",
       "       -0.7534884 , -0.27867694,  0.19675627, -0.4663034 , -2.04369406,\n",
       "       -1.1647808 , -0.47373925,  0.21744576, -0.47868848, -2.34477038,\n",
       "       -1.5763269 , -0.66896423,  0.23814448, -0.49078721, -2.64597466,\n",
       "       -1.98730775, -0.86424189,  0.25878264, -0.50313739, -2.94696087,\n",
       "        9.15071351,  5.55159794,  1.72282125, -2.50324786, -7.09329883,\n",
       "        7.13384441,  4.36094549,  1.44084618, -2.07968386, -6.0156257 ,\n",
       "        5.11751468,  3.10068531,  1.08372694, -1.7906233 , -4.93765142,\n",
       "        3.1008646 ,  1.84032909,  0.57239002, -1.50162535, -3.86004553,\n",
       "        1.08447913,  0.57997338,  0.06129995, -1.21261582, -2.78200636,\n",
       "       -0.93209439, -0.68016758, -0.45007791, -0.9235899 , -1.70436932,\n",
       "       -2.94871045, -1.94021153, -0.96152248, -0.63469093, -0.62660066,\n",
       "       -4.96512122, -3.20058753, -1.47260226, -0.34560623,  0.45127841,\n",
       "       -6.98173498, -4.46074725, -1.98416862, -0.05658251,  1.52895226,\n",
       "       -8.99842745, -5.72123841, -2.53659735,  0.23231305,  2.60695208])"
      ]
     },
     "execution_count": 45,
     "metadata": {},
     "output_type": "execute_result"
    }
   ],
   "source": []
  }
 ],
 "metadata": {
  "kernelspec": {
   "display_name": "Python 3 (ipykernel)",
   "language": "python",
   "name": "python3"
  },
  "language_info": {
   "codemirror_mode": {
    "name": "ipython",
    "version": 3
   },
   "file_extension": ".py",
   "mimetype": "text/x-python",
   "name": "python",
   "nbconvert_exporter": "python",
   "pygments_lexer": "ipython3",
   "version": "3.10.1"
  }
 },
 "nbformat": 4,
 "nbformat_minor": 5
}
