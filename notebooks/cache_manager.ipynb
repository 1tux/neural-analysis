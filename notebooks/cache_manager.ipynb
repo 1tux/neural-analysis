{
 "cells": [
  {
   "cell_type": "code",
   "execution_count": 22,
   "id": "c1354829-dd6a-4386-bf82-f1ae3bc7e14a",
   "metadata": {},
   "outputs": [],
   "source": [
    "import shelve\n",
    "from pprint import pprint\n",
    "\n",
    "f = shelve.open(\"../cache/models\")\n",
    "keys = list(f.keys())\n",
    "for k in keys:\n",
    "    nid = k.split(\"|\")[-2]\n",
    "    if int(nid) == 1000:\n",
    "        del f[k]"
   ]
  },
  {
   "cell_type": "code",
   "execution_count": 7,
   "id": "a65d28d4-4f7b-4666-afcc-ef6cce1591f6",
   "metadata": {},
   "outputs": [],
   "source": [
    "import shelve\n",
    "from pprint import pprint\n",
    "\n",
    "f = shelve.open(\"../cache/samples\")\n",
    "keys = list(f.keys())\n",
    "for k in keys:\n",
    "    nid = k.split(\"|\")[-2]\n",
    "    #if int(nid) > 1000:\n",
    "        #del f[k]\n",
    "    if int(nid) == 72:\n",
    "        del f[k]"
   ]
  }
 ],
 "metadata": {
  "kernelspec": {
   "display_name": "Python 3 (ipykernel)",
   "language": "python",
   "name": "python3"
  },
  "language_info": {
   "codemirror_mode": {
    "name": "ipython",
    "version": 3
   },
   "file_extension": ".py",
   "mimetype": "text/x-python",
   "name": "python",
   "nbconvert_exporter": "python",
   "pygments_lexer": "ipython3",
   "version": "3.10.1"
  }
 },
 "nbformat": 4,
 "nbformat_minor": 5
}
